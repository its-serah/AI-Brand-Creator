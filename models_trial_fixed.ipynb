{
  "cells": [
    {
      "cell_type": "markdown",
      "metadata": {
        "id": "view-in-github",
        "colab_type": "text"
      },
      "source": [
        "<a href=\"https://colab.research.google.com/github/its-serah/AI-Brand-Creator/blob/logo-generation-first-experiments/models_trial_fixed.ipynb\" target=\"_parent\"><img src=\"https://colab.research.google.com/assets/colab-badge.svg\" alt=\"Open In Colab\"/></a>"
      ]
    },
    {
      "cell_type": "markdown",
      "metadata": {
        "id": "HxqRYwg1Cz-h"
      },
      "source": [
        "1- Logo Diffusion (LogoWizard)\n",
        "\n",
        "Type & Features: Stable Diffusion 2.1 fine-tuned on logos – text-to image generator for logo icons . Prefers flat, centered designs.\n",
        "\n",
        "Multilingual support: Prompt in EN (OpenCLIP may handle other languages); doesn’t generate readable text in images.\n",
        "\n",
        "[logo diffusion](https://huggingface.co/logo-wizard/logo-diffusion-checkpoint#:~:text=This%20is%20checkpoint%20based%20on,example%20images%20in%20the%20following)\n",
        "\n",
        "2- T2I-Adapter (Color)\n",
        "\n",
        "Type & Features:  Auxiliary model for Stable Diffusion conditions generation on a provided color palette image . Ensures output image follows specific colors.\n",
        "\n",
        "Multilingual support: N/A (used with SD text prompts, primarily English).\n",
        "\n",
        "[T2I-Adapter](https://huggingface.co/TencentARC/t2iadapter_color_sd14v1#:~:text=T2I%20Adapter%20is%20a%20network,specific%20base%20stable%20diffusion%20checkpoint)\n"
      ]
    },
    {
      "cell_type": "markdown",
      "metadata": {
        "id": "-9_fUp_ZC0yE"
      },
      "source": [
        "Tips for this pair\n",
        "\n",
        "Resolutions:\n",
        "\n",
        "logo-diffusion (SD-2.1) → 768×768 is native.\n",
        "Hugging Face\n",
        "\n",
        "t2iadapter_color_sd14v1 + SD-1.4 → 512×512 is native; you can upscale later.\n",
        "\n",
        "Color strength (Model 2): tweak adapter_conditioning_scale (try 0.6, 1.0, 1.2).\n",
        "Hugging Face\n",
        "\n",
        "Prompting: keep it logo-like (“flat vector, simple, solid fills”), avoid photoreal cues.\n",
        "\n",
        "Fairness: keep same SEED, STEPS, and guidance across models."
      ]
    },
    {
      "cell_type": "markdown",
      "metadata": {
        "id": "PAuWuaRDDUN3"
      },
      "source": [
        "Step0: GPU check"
      ]
    },
    {
      "cell_type": "code",
      "execution_count": null,
      "metadata": {
        "colab": {
          "base_uri": "https://localhost:8080/"
        },
        "id": "KpaZJ7GbCzSF",
        "outputId": "fdf3e718-25c2-4adc-c4a7-22c1c5638544"
      },
      "outputs": [
        {
          "name": "stdout",
          "output_type": "stream",
          "text": [
            "Python: 3.12.11 (main, Jun  4 2025, 08:56:18) [GCC 11.4.0]\n",
            "Torch: 2.8.0+cu126 | CUDA available: True\n"
          ]
        }
      ],
      "source": [
        "import torch, sys\n",
        "print(\"Python:\", sys.version)\n",
        "print(\"Torch:\", torch.__version__, \"| CUDA available:\", torch.cuda.is_available())"
      ]
    },
    {
      "cell_type": "markdown",
      "metadata": {
        "id": "GBkp7CxWDbsw"
      },
      "source": [
        "Step1: Installs"
      ]
    },
    {
      "cell_type": "code",
      "execution_count": null,
      "metadata": {
        "colab": {
          "base_uri": "https://localhost:8080/"
        },
        "id": "itEIYHnIDeuD",
        "outputId": "7496e29f-5992-44d3-e907-8c13c66472eb"
      },
      "outputs": [
        {
          "name": "stdout",
          "output_type": "stream",
          "text": [
            "\u001b[2K     \u001b[90m━━━━━━━━━━━━━━━━━━━━━━━━━━━━━━━━━━━━━━━━\u001b[0m \u001b[32m44.4/44.4 kB\u001b[0m \u001b[31m2.7 MB/s\u001b[0m eta \u001b[36m0:00:00\u001b[0m\n",
            "\u001b[2K   \u001b[90m━━━━━━━━━━━━━━━━━━━━━━━━━━━━━━━━━━━━━━━━\u001b[0m \u001b[32m9.9/9.9 MB\u001b[0m \u001b[31m44.0 MB/s\u001b[0m eta \u001b[36m0:00:00\u001b[0m\n",
            "\u001b[2K   \u001b[90m━━━━━━━━━━━━━━━━━━━━━━━━━━━━━━━━━━━━━━━━\u001b[0m \u001b[32m3.0/3.0 MB\u001b[0m \u001b[31m83.5 MB/s\u001b[0m eta \u001b[36m0:00:00\u001b[0m\n",
            "\u001b[2K   \u001b[90m━━━━━━━━━━━━━━━━━━━━━━━━━━━━━━━━━━━━━━━━\u001b[0m \u001b[32m2.2/2.2 MB\u001b[0m \u001b[31m42.9 MB/s\u001b[0m eta \u001b[36m0:00:00\u001b[0m\n",
            "\u001b[2K   \u001b[90m━━━━━━━━━━━━━━━━━━━━━━━━━━━━━━━━━━━━━━━━\u001b[0m \u001b[32m320.7/320.7 kB\u001b[0m \u001b[31m21.4 MB/s\u001b[0m eta \u001b[36m0:00:00\u001b[0m\n",
            "\u001b[2K   \u001b[90m━━━━━━━━━━━━━━━━━━━━━━━━━━━━━━━━━━━━━━━━\u001b[0m \u001b[32m1.5/1.5 MB\u001b[0m \u001b[31m12.9 MB/s\u001b[0m eta \u001b[36m0:00:00\u001b[0m\n",
            "\u001b[2K   \u001b[90m━━━━━━━━━━━━━━━━━━━━━━━━━━━━━━━━━━━━━━━━\u001b[0m \u001b[32m44.8/44.8 kB\u001b[0m \u001b[31m3.8 MB/s\u001b[0m eta \u001b[36m0:00:00\u001b[0m\n",
            "\u001b[?25h"
          ]
        }
      ],
      "source": [
        "\n",
        "%pip install -q --upgrade \"transformers==4.45.2\" \"tokenizers==0.20.3\" \"diffusers==0.29.2\" accelerate safetensors\n",
        "%pip install -q pillow numpy pandas scikit-image tqdm open-clip-torch peft==0.13.2"
      ]
    },
    {
      "cell_type": "markdown",
      "metadata": {
        "id": "YVV4rktLDlKz"
      },
      "source": [
        "Step2: Imports and basic setup"
      ]
    },
    {
      "cell_type": "code",
      "execution_count": null,
      "metadata": {
        "colab": {
          "base_uri": "https://localhost:8080/",
          "height": 190,
          "referenced_widgets": [
            "46a9085edc0b4caa9bca24220da186fc",
            "0855724fdcb64526a7611b777494aa95",
            "613394b68b9d46e08370eedc4e6c3825",
            "c37d618a337749178b40524427134f5c",
            "e700c0f503064105bb312b1efacce801",
            "8476ff808be8483cbeccebb4b9e68c48",
            "ab73db6d2b9f417183b3a0f86eade5dc",
            "63ad54b9dd2247c8a7b02a5be32a708c",
            "1c360f98708d4e9a91b944d0998e7882",
            "a827662bd2214799ab3486a06f6d35ec",
            "e8e03af1641c4bf7bfb05e0baf90a62f"
          ]
        },
        "id": "KaNRuMnyDnby",
        "outputId": "71935a51-637b-4870-d3c9-940b560dc298"
      },
      "outputs": [
        {
          "name": "stderr",
          "output_type": "stream",
          "text": [
            "The cache for model files in Transformers v4.22.0 has been updated. Migrating your old cache. This is a one-time only operation. You can interrupt this and resume the migration later on by calling `transformers.utils.move_cache()`.\n"
          ]
        },
        {
          "data": {
            "application/vnd.jupyter.widget-view+json": {
              "model_id": "46a9085edc0b4caa9bca24220da186fc",
              "version_major": 2,
              "version_minor": 0
            },
            "text/plain": [
              "0it [00:00, ?it/s]"
            ]
          },
          "metadata": {},
          "output_type": "display_data"
        },
        {
          "name": "stdout",
          "output_type": "stream",
          "text": [
            "Torch: 2.8.0+cu126 | CUDA: True\n",
            "Outputs -> /content/outputs/20250908-160041\n"
          ]
        },
        {
          "name": "stderr",
          "output_type": "stream",
          "text": [
            "/usr/local/lib/python3.12/dist-packages/diffusers/models/vq_model.py:20: FutureWarning: `VQEncoderOutput` is deprecated and will be removed in version 0.31. Importing `VQEncoderOutput` from `diffusers.models.vq_model` is deprecated and this will be removed in a future version. Please use `from diffusers.models.autoencoders.vq_model import VQEncoderOutput`, instead.\n",
            "  deprecate(\"VQEncoderOutput\", \"0.31\", deprecation_message)\n",
            "/usr/local/lib/python3.12/dist-packages/diffusers/models/vq_model.py:25: FutureWarning: `VQModel` is deprecated and will be removed in version 0.31. Importing `VQModel` from `diffusers.models.vq_model` is deprecated and this will be removed in a future version. Please use `from diffusers.models.autoencoders.vq_model import VQModel`, instead.\n",
            "  deprecate(\"VQModel\", \"0.31\", deprecation_message)\n"
          ]
        }
      ],
      "source": [
        "import os, math, time, random\n",
        "from pathlib import Path\n",
        "\n",
        "import numpy as np\n",
        "import pandas as pd\n",
        "from PIL import Image, ImageDraw\n",
        "from tqdm import tqdm\n",
        "\n",
        "import torch\n",
        "from diffusers import (\n",
        "    AutoPipelineForText2Image,\n",
        "    StableDiffusionPipeline,\n",
        "    StableDiffusionAdapterPipeline,\n",
        "    T2IAdapter,\n",
        ")\n",
        "\n",
        "DEVICE = \"cuda\" if torch.cuda.is_available() else \"cpu\"\n",
        "print(\"Torch:\", torch.__version__, \"| CUDA:\", torch.cuda.is_available())\n",
        "\n",
        "RUN_TAG = time.strftime(\"%Y%m%d-%H%M%S\")\n",
        "BASE_DIR = Path(f\"/content/outputs/{RUN_TAG}\")\n",
        "BASE_DIR.mkdir(parents=True, exist_ok=True)\n",
        "print(\"Outputs ->\", BASE_DIR)\n"
      ]
    },
    {
      "cell_type": "markdown",
      "metadata": {
        "id": "ojOgNK8tDwSv"
      },
      "source": [
        "Step3: Model 1 — Logo Diffusion (LogoWizard)"
      ]
    },
    {
      "cell_type": "markdown",
      "metadata": {
        "id": "jf63ZUAfD3PS"
      },
      "source": [
        "Loader"
      ]
    },
    {
      "cell_type": "code",
      "execution_count": null,
      "metadata": {
        "colab": {
          "base_uri": "https://localhost:8080/",
          "height": 676,
          "referenced_widgets": [
            "aaa78a26a36f43f691b2ce3f894e899d",
            "0ab6e72cb9d346ec871e08aa998402dc",
            "fe075237606749df92451fb1cee852e7",
            "108b3a59a7094fae8ee059dae4f69fad",
            "ceade6922c6840208e243f699e0797a1",
            "f66c78905f844f248f591f789f441363",
            "b77e0a294da544dc999cf97899bb796b",
            "718ea9737c8749fcbfa15d963b1a3a6e",
            "ed736fe17683442fa11724624d30fcbc",
            "a160fbed2af84e709298e0095f6c478c",
            "db4638174e244e8d98c50e52e9a04f13",
            "b1481a70905f4c87bf25c3df2c5e37ca",
            "fd27fc6a7df6442d8fc114a638b5bb5a",
            "6dbed4cbe8e84ba6a79003394c599f92",
            "1fb540e3c72d42b1b939d1b7f7f64444",
            "8db9399f8a754e14982ad45a1eaec713",
            "010be674e5754068ba3d601378e8226b",
            "e775f2fb7441442cad390ffb68d64126",
            "8458abc2a43a48bba50dc5eed69c0c93",
            "6f74a6603801467a890fb210791a52e0",
            "a4bf5840cfeb41e9aebc29050636d85d",
            "b4a01d963fac4264a88afb70ec33d45c",
            "3eccbe90151141faa3142e881532eef4",
            "beae5c7b38894aa09188c66446e1c489",
            "a2db68c55e9844c18f65300659f3f007",
            "ef04d6ccd35f4793b7a7a92a517d34f2",
            "f29aa5244c1c49699d65802f69130c39",
            "3635b4d8bd174f639464ef446dafef05",
            "c4a1852e220e486898e37dd32270d1ab",
            "2efb6e3700404dd69dd24ea6b550c4bc",
            "bb21f008435f454583bcd0ee9d435ff7",
            "afdf5aca53cc4541a35888d1110ffc2e",
            "b5e80ad2f3d643d4a0acc1eebeb2319d",
            "239688a9d5b54dc3845656b9aedd95e6",
            "b6a0559fa02e405090530e378492f344",
            "19473d6753f84892b1be9131baa831e5",
            "de063e9d9311491dbd8ad56f3d5493cd",
            "960579bb612c4ffd8ae884391b8f590f",
            "757116be3b1c4538a0e931cba54765e6",
            "3ce882516fa54da9ac362902537f1d37",
            "18bfd6d7abf441bfb1d589f0fb1964b5",
            "12ec307478e54e0e838abe337c2fd0c9",
            "7a9f4124866d4a459779ae5c3d66af8d",
            "7b0e648e78b842929b8fa4ccd64e6c7b",
            "ee01abbab5074b198d00e5d7a78402b9",
            "ad5c2351f9e948d690dd9cc108038a1a",
            "a20a56cfd303466cb0ae874d70f22970",
            "8e0b110cf73b44969a8945e7746b3185",
            "091807a4aa7749d1b02be34515c1a6d0",
            "725fc8c52db94360b0f73eead0b10d6e",
            "daeca223859f4c8c935c325253f28578",
            "80c38b20734e48a6a064ab5a6242e4ef",
            "84e6e50968f74e58939e0e055ee085d3",
            "0a1039c180114525bc3d688cc8857e9a",
            "c68c4139bfbc4f07a1859480944738d0",
            "bc909c1491ff4b7aacf0ee294a4ce240",
            "93f9e4e8c5e84e42bfd081e04d5928fa",
            "3dca264c67de48ceb76ff935f6295002",
            "13ad0a399ebe47d6800ede3faac0b105",
            "3bb6517863c5408f8b580d86e1822c3a",
            "6cba7817492c43c5bb8741f65ab7e14e",
            "ead9259d4d45435db806a03da6d63bcc",
            "ea5a48d1cc0b42d09fa336db1bc2c1a4",
            "6d8ede907de147dfaa31cc21bf133cf2",
            "49bfbf3ca8264138a50da092c88f4c41",
            "7871cd9f67a3455c82884f9005882bbe",
            "1ff5dfb252624139bbabbc3eade15e95",
            "d657641706b84c75ad24528ad78e54ad",
            "70876a0f4386449a8ae5ce4844c569d4",
            "bb787dd3c01b46d89b20d6e4df2479cb",
            "e5751fe1bdd8480085fa641ee5e4d388",
            "86304038ee0f4b5d8f84950e0429e2d4",
            "141ee2f96ba04748b0956df323df9276",
            "dbc3fcf8784b4299bc0c016549db4e1a",
            "45859286ca1241dfa4e733b1fa7c0d03",
            "17fb0e4820ca48b4a321f4003b9a3940",
            "e7ebd2a208e749ed9f0dc971e4d409fe",
            "c350d74c0531414da00c3ad11b35bc4e",
            "04388e5266b5467fbca0cfa93e30b52c",
            "d752cd1d30764797b71552eb470e3c05",
            "8db4c2c146834e63b2d6b4d43c70f0bb",
            "82ca05268ad14b4f8176de9db0015661",
            "192abf2b9dd54d0b8f93b1c89dbc1aa7",
            "e98622dafaf746ae8daf8be34f3ddfc6",
            "62247bf8a8dd4c99bf2cb107b20c3798",
            "d622d39400cd42fabb6e9cc2dd4b023a",
            "522e33e4449543958436c980eb188261",
            "6c992597377449ed9f6e12b9f5bd5f13",
            "cff493ae3aac418a85f6c07d125c7f10",
            "c4d69015d5ce4e469fb2161753ebd1e5",
            "a7d14db87bcc46a39a23b32936c4d999",
            "28046e1194a44147be7560fd92069973",
            "507f5009ca2a4d6a93caa3d171542596",
            "be3a16bd2a834db1943aeb86d558c8af",
            "c409718b559244ee9334db6228336c80",
            "95ad2c186f374daa8814511baf54d286",
            "39b8959d846b4dbf99355b35bbc3b2f9",
            "858d53e1a7154bd8af567460709c6796",
            "52fbf80a7c52471880766bde1e917e0e",
            "fae7e0ce1a9d4f208549d51536bc09c5",
            "57a6c44c7f3d4353a8622fffe5ea60d9",
            "b153f1963af24ddbb0d3401670f4eb71",
            "34215dc007a04cebabfbc464e4b922ec",
            "b1c04c743f434a038ecfa89816ae8d63",
            "09bfffe7b8a94757b1717f45db5f1b4c",
            "8f8a069ba8f0458fbfd955104a58597d",
            "c0f3df9f182545078eb5bf3742a224c0",
            "1e395404359a4ccea1184f36736baad6",
            "7f6871f4c9d14b479af0dace8e41f6b3",
            "2107b6eb2e60428a95eea851c9a75c44",
            "735de098dd504830b0c92307fe56896d",
            "439cc09deac742f0890f8c9a71e6cf97",
            "60dc471eb28a46d48ae74f9c6adcbd4a",
            "6157616e117849b98d9debe98c2b3067",
            "d15e5ef443f642a29eff854cee9cfae4",
            "8a7d540d0550485e980d9369c1d93a54",
            "c4cb82f873b342fb8e47c693a61084e6",
            "950df0a8dfa44ef2be3601d00a16c785",
            "30568a1f0837460c8be9b60783a0ccb6",
            "bdc3e87fb546486ab9d3daca3b3e7230",
            "5f36e704e5eb48c1bbbfcef604cd8c43",
            "ab25ded508554472899f7857fcf53170",
            "204e28a70c6d413bbf7afa6b00b439a4",
            "6d5ae6412bae48c4b742f8f5ef5ef23d",
            "a8ff15c16b0e4de7bbe74755c453aa70",
            "c1137001388b4b01977f2a2c8ca2a7be",
            "f9c2f276e2874a0985a5b12527ae8285",
            "dec51f3741584befa384b845928c529f",
            "3fac5ba1950b4762b3eec3c9e41a160b",
            "9ddd9b0f68424fbe8acc13cc0b04672b",
            "53d40fc291024ac9899005a5a0b4afc7",
            "45fc24bec08044449f4da33e9b7892b9",
            "66d711ef313449c0b0655c3da611e780",
            "e230207d3acf400aac057ef7aabace60",
            "0d14658c98794ed4a94480a76f21ef3e",
            "1066217f14ce46a0bae875a80f55def6",
            "7ec107bbe283452b8a0279636f0b5f52",
            "6be2d72197fb4d0181e44a6c7afcca29",
            "1b21f9e50aad47fb87978d29e317ff97",
            "eeacd3cd1811424186ab7bd8a65d8d6b",
            "6b9e7e401a7943bca3cbdf5fcbfac5c4",
            "0bffb5a79ae947929642cbeff5a41ada",
            "578be0a48927469993fc5b2c286bee0d",
            "e741d21ecdc8417ca3f527f8a1176a85",
            "5f22b185e35a4ba089ee42b3dbbb953f",
            "ccbdc4a61d1849f58d05efc6da6c78ba",
            "586f36a0a50049b08e72fd461e9d27da",
            "75ed73efd58245a395a1281323c9f786",
            "ee5edf0f92244b1da5f6cf210e0e7747",
            "239ae80141b14a0e82b0ba8cc5085045",
            "ae157e4be8324f32a52c5ce138fa20db",
            "28876e970b6a4f6cbddf5baf768500df",
            "9959ea240f8f4f3e9a477d6e04ef269e",
            "8e307753cfe447eba325b50b66bcf939"
          ]
        },
        "id": "UI1j8KpGDx__",
        "outputId": "c3a915b4-569c-444c-b9ce-08b389fe3c00"
      },
      "outputs": [
        {
          "name": "stderr",
          "output_type": "stream",
          "text": [
            "/usr/local/lib/python3.12/dist-packages/huggingface_hub/utils/_auth.py:94: UserWarning: \n",
            "The secret `HF_TOKEN` does not exist in your Colab secrets.\n",
            "To authenticate with the Hugging Face Hub, create a token in your settings tab (https://huggingface.co/settings/tokens), set it as secret in your Google Colab and restart your session.\n",
            "You will be able to reuse this secret in all of your notebooks.\n",
            "Please note that authentication is recommended but still optional to access public models or datasets.\n",
            "  warnings.warn(\n"
          ]
        },
        {
          "data": {
            "application/vnd.jupyter.widget-view+json": {
              "model_id": "aaa78a26a36f43f691b2ce3f894e899d",
              "version_major": 2,
              "version_minor": 0
            },
            "text/plain": [
              "model_index.json:   0%|          | 0.00/535 [00:00<?, ?B/s]"
            ]
          },
          "metadata": {},
          "output_type": "display_data"
        },
        {
          "data": {
            "application/vnd.jupyter.widget-view+json": {
              "model_id": "b1481a70905f4c87bf25c3df2c5e37ca",
              "version_major": 2,
              "version_minor": 0
            },
            "text/plain": [
              "Fetching 12 files:   0%|          | 0/12 [00:00<?, ?it/s]"
            ]
          },
          "metadata": {},
          "output_type": "display_data"
        },
        {
          "data": {
            "application/vnd.jupyter.widget-view+json": {
              "model_id": "3eccbe90151141faa3142e881532eef4",
              "version_major": 2,
              "version_minor": 0
            },
            "text/plain": [
              "text_encoder/pytorch_model.bin:   0%|          | 0.00/1.36G [00:00<?, ?B/s]"
            ]
          },
          "metadata": {},
          "output_type": "display_data"
        },
        {
          "data": {
            "application/vnd.jupyter.widget-view+json": {
              "model_id": "239688a9d5b54dc3845656b9aedd95e6",
              "version_major": 2,
              "version_minor": 0
            },
            "text/plain": [
              "config.json:   0%|          | 0.00/608 [00:00<?, ?B/s]"
            ]
          },
          "metadata": {},
          "output_type": "display_data"
        },
        {
          "data": {
            "application/vnd.jupyter.widget-view+json": {
              "model_id": "ee01abbab5074b198d00e5d7a78402b9",
              "version_major": 2,
              "version_minor": 0
            },
            "text/plain": [
              "merges.txt: 0.00B [00:00, ?B/s]"
            ]
          },
          "metadata": {},
          "output_type": "display_data"
        },
        {
          "data": {
            "application/vnd.jupyter.widget-view+json": {
              "model_id": "bc909c1491ff4b7aacf0ee294a4ce240",
              "version_major": 2,
              "version_minor": 0
            },
            "text/plain": [
              "tokenizer_config.json:   0%|          | 0.00/737 [00:00<?, ?B/s]"
            ]
          },
          "metadata": {},
          "output_type": "display_data"
        },
        {
          "data": {
            "application/vnd.jupyter.widget-view+json": {
              "model_id": "1ff5dfb252624139bbabbc3eade15e95",
              "version_major": 2,
              "version_minor": 0
            },
            "text/plain": [
              "scheduler_config.json:   0%|          | 0.00/462 [00:00<?, ?B/s]"
            ]
          },
          "metadata": {},
          "output_type": "display_data"
        },
        {
          "data": {
            "application/vnd.jupyter.widget-view+json": {
              "model_id": "c350d74c0531414da00c3ad11b35bc4e",
              "version_major": 2,
              "version_minor": 0
            },
            "text/plain": [
              "vocab.json: 0.00B [00:00, ?B/s]"
            ]
          },
          "metadata": {},
          "output_type": "display_data"
        },
        {
          "data": {
            "application/vnd.jupyter.widget-view+json": {
              "model_id": "cff493ae3aac418a85f6c07d125c7f10",
              "version_major": 2,
              "version_minor": 0
            },
            "text/plain": [
              "config.json: 0.00B [00:00, ?B/s]"
            ]
          },
          "metadata": {},
          "output_type": "display_data"
        },
        {
          "data": {
            "application/vnd.jupyter.widget-view+json": {
              "model_id": "fae7e0ce1a9d4f208549d51536bc09c5",
              "version_major": 2,
              "version_minor": 0
            },
            "text/plain": [
              "unet/diffusion_pytorch_model.bin:   0%|          | 0.00/3.46G [00:00<?, ?B/s]"
            ]
          },
          "metadata": {},
          "output_type": "display_data"
        },
        {
          "data": {
            "application/vnd.jupyter.widget-view+json": {
              "model_id": "735de098dd504830b0c92307fe56896d",
              "version_major": 2,
              "version_minor": 0
            },
            "text/plain": [
              "special_tokens_map.json:   0%|          | 0.00/460 [00:00<?, ?B/s]"
            ]
          },
          "metadata": {},
          "output_type": "display_data"
        },
        {
          "data": {
            "application/vnd.jupyter.widget-view+json": {
              "model_id": "ab25ded508554472899f7857fcf53170",
              "version_major": 2,
              "version_minor": 0
            },
            "text/plain": [
              "vae/diffusion_pytorch_model.bin:   0%|          | 0.00/335M [00:00<?, ?B/s]"
            ]
          },
          "metadata": {},
          "output_type": "display_data"
        },
        {
          "data": {
            "application/vnd.jupyter.widget-view+json": {
              "model_id": "66d711ef313449c0b0655c3da611e780",
              "version_major": 2,
              "version_minor": 0
            },
            "text/plain": [
              "config.json:   0%|          | 0.00/582 [00:00<?, ?B/s]"
            ]
          },
          "metadata": {},
          "output_type": "display_data"
        },
        {
          "data": {
            "application/vnd.jupyter.widget-view+json": {
              "model_id": "e741d21ecdc8417ca3f527f8a1176a85",
              "version_major": 2,
              "version_minor": 0
            },
            "text/plain": [
              "Loading pipeline components...:   0%|          | 0/5 [00:00<?, ?it/s]"
            ]
          },
          "metadata": {},
          "output_type": "display_data"
        },
        {
          "name": "stderr",
          "output_type": "stream",
          "text": [
            "An error occurred while trying to fetch /root/.cache/huggingface/hub/models--logo-wizard--logo-diffusion-checkpoint/snapshots/4795d8af0496e9ab40006281fb5b237c23f6c412/vae: Error no file named diffusion_pytorch_model.safetensors found in directory /root/.cache/huggingface/hub/models--logo-wizard--logo-diffusion-checkpoint/snapshots/4795d8af0496e9ab40006281fb5b237c23f6c412/vae.\n",
            "Defaulting to unsafe serialization. Pass `allow_pickle=False` to raise an error instead.\n",
            "An error occurred while trying to fetch /root/.cache/huggingface/hub/models--logo-wizard--logo-diffusion-checkpoint/snapshots/4795d8af0496e9ab40006281fb5b237c23f6c412/unet: Error no file named diffusion_pytorch_model.safetensors found in directory /root/.cache/huggingface/hub/models--logo-wizard--logo-diffusion-checkpoint/snapshots/4795d8af0496e9ab40006281fb5b237c23f6c412/unet.\n",
            "Defaulting to unsafe serialization. Pass `allow_pickle=False` to raise an error instead.\n"
          ]
        },
        {
          "name": "stdout",
          "output_type": "stream",
          "text": [
            "Model 1 ready.\n"
          ]
        }
      ],
      "source": [
        "from diffusers import StableDiffusionPipeline, AutoPipelineForText2Image\n",
        "\n",
        "def load_logo_pipeline(model_id=\"logo-wizard/logo-diffusion-checkpoint\"):\n",
        "    try:\n",
        "        pipe = StableDiffusionPipeline.from_pretrained(\n",
        "            model_id,\n",
        "            torch_dtype=torch.float16 if torch.cuda.is_available() else torch.float32,\n",
        "            use_safetensors=False,   # important for .bin\n",
        "            safety_checker=None,\n",
        "            local_files_only=False,\n",
        "            low_cpu_mem_usage=False  # safer with .bin on Colab\n",
        "        )\n",
        "    except Exception:\n",
        "        pipe = AutoPipelineForText2Image.from_pretrained(\n",
        "            model_id,\n",
        "            torch_dtype=torch.float16 if torch.cuda.is_available() else torch.float32,\n",
        "            use_safetensors=False,\n",
        "            safety_checker=None,\n",
        "            local_files_only=False,\n",
        "            low_cpu_mem_usage=False\n",
        "        )\n",
        "    pipe.to(DEVICE)\n",
        "    pipe.enable_attention_slicing(); pipe.enable_vae_slicing()\n",
        "    return pipe\n",
        "\n",
        "pipe1 = load_logo_pipeline()\n",
        "print(\"Model 1 ready.\")\n"
      ]
    },
    {
      "cell_type": "markdown",
      "metadata": {
        "id": "jtn64YvjEi3o"
      },
      "source": [
        "Quick Smoke test"
      ]
    },
    {
      "cell_type": "code",
      "execution_count": null,
      "metadata": {
        "colab": {
          "base_uri": "https://localhost:8080/",
          "height": 66,
          "referenced_widgets": [
            "9fbd7de5fd924233ab3466aed7689054",
            "3f9612f483514bc995fcec80bf4be151",
            "0c557266436b4a4b9ab616d751adf4fd",
            "f15e65565eba4df99b9e44a0dcb2b387",
            "56b0647427ca4eeda12e4b793462c0d4",
            "8ec8f4d724e5486ca7849a73b6d60549",
            "cc6ba1e1d0f245e6ae4e4568df6144e3",
            "707869158ce541dfba60b44045b995ce",
            "ed807322308141b8860ea958f61eddd7",
            "53a57974f2a84e02884d27889e9e8b01",
            "e511ff43a4474e18af8fd41db0e03007"
          ]
        },
        "id": "_pNiqeb-EaTo",
        "outputId": "212f6dd7-90a8-486d-ce8d-c329a9f6d95f"
      },
      "outputs": [
        {
          "data": {
            "application/vnd.jupyter.widget-view+json": {
              "model_id": "9fbd7de5fd924233ab3466aed7689054",
              "version_major": 2,
              "version_minor": 0
            },
            "text/plain": [
              "  0%|          | 0/15 [00:00<?, ?it/s]"
            ]
          },
          "metadata": {},
          "output_type": "display_data"
        },
        {
          "name": "stdout",
          "output_type": "stream",
          "text": [
            "Saved: /content/outputs/20250908-160041/quick_test/logo_diffusion_test.png\n"
          ]
        }
      ],
      "source": [
        "prompt = \"Cedar & Stone logo, minimal geometric emblem for premium Lebanese coffee roastery, flat vector, simple, clean, solid fills\"\n",
        "neg = \"photorealistic, 3d render, busy background, text, watermark, clutter, gradients, bevel, shadow, noisy\"\n",
        "\n",
        "img = pipe1(\n",
        "    prompt=prompt, negative_prompt=neg,\n",
        "    height=512, width=512, num_inference_steps=15, guidance_scale=7.0\n",
        ").images[0]\n",
        "\n",
        "test_dir = BASE_DIR / \"quick_test\"; test_dir.mkdir(parents=True, exist_ok=True)\n",
        "out1 = str(test_dir / \"logo_diffusion_test.png\")\n",
        "img.save(out1); print(\"Saved:\", out1)\n"
      ]
    },
    {
      "cell_type": "markdown",
      "metadata": {
        "id": "vrzKVm1GFINA"
      },
      "source": [
        "✅ Strengths:\n",
        "• It produced a clean, vector-like outline (good for logos).\n",
        "• Strong silhouette contrast (the dark trees/shapes against the beige).\n",
        "• Simple shape — scalable and recognizable.\n",
        "\n",
        "⚠️ Weaknesses / points to improve:\n",
        "• The design feels a bit generic (like a clipart badge, not strongly brand-unique).\n",
        "• Some unwanted shading/textures inside the badge (logos should usually be flat/solid fills).\n",
        "• The “top house/barn” shape might not match your “coffee roastery” or “brand story” unless that was intended.\n",
        "\n",
        "💡 Next steps if you want better:\n",
        "• Strengthen the prompt with style keywords: “flat minimal vector, no gradients, no shading, clean lines, solid fills, geometric coffee emblem”.\n",
        "• Add industry hint: “coffee beans, roastery, Lebanese heritage”.\n",
        "• If you want color adherence, test with Model 2 (T2I-Adapter Color) and provide your palette — it will force stronger brand colors.\n",
        "\n",
        "👉 Verdict: it’s usable as a first pass, but you’d likely want sharper, flatter, and more on-theme logos."
      ]
    },
    {
      "cell_type": "code",
      "execution_count": null,
      "metadata": {
        "colab": {
          "base_uri": "https://localhost:8080/",
          "height": 66,
          "referenced_widgets": [
            "d53a7a1a07d84adfb807e5c8156d8c38",
            "6db847a76a3d47f694a65f491cbe29bc",
            "d4618ed455744d22a55f74e568303047",
            "19ef692e6748428c8803ac55d297a4d7",
            "f91ca5ad7b6648859aec74e8a96e4c82",
            "133687be506840979c7e79dc2488fe7c",
            "2d330cbf91db4d9e99ffa7a19a754615",
            "caabfa41ce094370860adaf844ac7c5f",
            "cad24632cfe54a79907456c517333fc5",
            "a76e34c12d3a4875894274f8d7c44679",
            "8b40f93996c34dedaac300e4967cb1a1"
          ]
        },
        "id": "zrzE_h1oFTDo",
        "outputId": "af70f8ab-6b5f-46d8-aba4-9e77c12e2801"
      },
      "outputs": [
        {
          "data": {
            "application/vnd.jupyter.widget-view+json": {
              "model_id": "d53a7a1a07d84adfb807e5c8156d8c38",
              "version_major": 2,
              "version_minor": 0
            },
            "text/plain": [
              "  0%|          | 0/25 [00:00<?, ?it/s]"
            ]
          },
          "metadata": {},
          "output_type": "display_data"
        },
        {
          "name": "stdout",
          "output_type": "stream",
          "text": [
            "Saved: /content/outputs/20250908-160041/quick_test/logo_diffusion_refined.png\n"
          ]
        }
      ],
      "source": [
        "#prompt 2\n",
        "prompt = (\n",
        "    \"Cedar & Stone logo, minimal flat vector emblem for premium Lebanese coffee roastery, \"\n",
        "    \"geometric design, coffee beans and cedar tree, clean lines, simple, scalable, solid fills, \"\n",
        "    \"modern branding style\"\n",
        ")\n",
        "\n",
        "negative_prompt = (\n",
        "    \"photorealistic, 3d render, shading, gradients, bevel, texture, busy background, \"\n",
        "    \"clutter, text, watermark, noisy, clipart, stock icon\"\n",
        ")\n",
        "\n",
        "img = pipe1(\n",
        "    prompt=prompt,\n",
        "    negative_prompt=negative_prompt,\n",
        "    height=512, width=512,   # keep small to test first\n",
        "    num_inference_steps=25,\n",
        "    guidance_scale=7.5\n",
        ").images[0]\n",
        "\n",
        "test_dir = BASE_DIR / \"quick_test\"\n",
        "test_dir.mkdir(parents=True, exist_ok=True)\n",
        "out1b = str(test_dir / \"logo_diffusion_refined.png\")\n",
        "img.save(out1b); print(\"Saved:\", out1b)\n"
      ]
    },
    {
      "cell_type": "code",
      "execution_count": null,
      "metadata": {
        "colab": {
          "base_uri": "https://localhost:8080/",
          "height": 66,
          "referenced_widgets": [
            "7ddb166a9ea4477fa1a6706723bc5b80",
            "36eef2ba15a34ce3a79e5a24c5786379",
            "1b9fba87eefa4021a4f02978a6231434",
            "c0ed7c9a14984f65828e20466190f179",
            "a6ce721baab44a219d24c7966fbbbb3c",
            "160801cb18304aafa4aa06ee1bac98dc",
            "4589214593774768a677044643e41732",
            "e71ce27f2d7445498a828f67f8ff18d1",
            "3e3b35a446e0412c808df07541eb4640",
            "421b44390bbd4294844bd91f93e7baa2",
            "42e863b63d7d46a4a8c8f9d7c845cd21"
          ]
        },
        "id": "2USOyHiYF_po",
        "outputId": "5963ef97-a949-4127-bc3b-275bf8c96606"
      },
      "outputs": [
        {
          "data": {
            "application/vnd.jupyter.widget-view+json": {
              "model_id": "7ddb166a9ea4477fa1a6706723bc5b80",
              "version_major": 2,
              "version_minor": 0
            },
            "text/plain": [
              "  0%|          | 0/25 [00:00<?, ?it/s]"
            ]
          },
          "metadata": {},
          "output_type": "display_data"
        },
        {
          "name": "stdout",
          "output_type": "stream",
          "text": [
            "Saved: /content/outputs/20250908-160041/quick_test/logo_diffusion_textfree.png\n"
          ]
        }
      ],
      "source": [
        "#trial 3\n",
        "prompt = (\n",
        "    \"Cedar & Stone emblem-only logo symbol, no text, flat minimal vector, \"\n",
        "    \"coffee beans merging with cedar tree silhouette, simple and modern, \"\n",
        "    \"solid fills, scalable design, color palette of dark brown, beige, forest green\"\n",
        ")\n",
        "\n",
        "negative_prompt = (\n",
        "    \"text, typography, font, words, writing, captions, letters, watermark, clutter, \"\n",
        "    \"photorealistic, 3d render, gradients, shading, bevel, texture, noisy\"\n",
        ")\n",
        "\n",
        "img = pipe1(\n",
        "    prompt=prompt,\n",
        "    negative_prompt=negative_prompt,\n",
        "    height=512, width=512,   # test size first\n",
        "    num_inference_steps=25,\n",
        "    guidance_scale=7.5\n",
        ").images[0]\n",
        "\n",
        "test_dir = BASE_DIR / \"quick_test\"\n",
        "test_dir.mkdir(parents=True, exist_ok=True)\n",
        "out1c = str(test_dir / \"logo_diffusion_textfree.png\")\n",
        "img.save(out1c); print(\"Saved:\", out1c)\n"
      ]
    },
    {
      "cell_type": "markdown",
      "metadata": {
        "id": "NRpEWQUqFiUA"
      },
      "source": [
        "Now this is a much better step forward ✅\n",
        "\n",
        "🔹 Strengths\n",
        "\n",
        "No text at all → the “emblem-only” instruction worked.\n",
        "\n",
        "Flat, vector-like fills → much cleaner than the previous versions.\n",
        "\n",
        "Good use of symbolic elements → leaves, tree-like base, and circular framing → feels logo-ish.\n",
        "\n",
        "Colors → strong brown + beige tones, some green hints → closer to a brand palette.\n",
        "\n",
        "🔹 Weaknesses\n",
        "\n",
        "The lower half tree still has a “speckled / textured” look, not clean solid fills.\n",
        "\n",
        "Some leaf details are a bit busy / noisy → can be simplified more for scalability.\n",
        "\n",
        "Circle outline is slightly broken / uneven.\n",
        "\n",
        "🔹 Verdict\n",
        "\n",
        "This output is finally usable as a logo draft — you can easily take this into Illustrator/Figma, trace/clean it, and get a professional-quality emblem."
      ]
    },
    {
      "cell_type": "markdown",
      "metadata": {
        "id": "Obn_P3avHWeI"
      },
      "source": [
        "Next Steps:\n",
        "\n",
        "Prompt tweak to reduce texture:\n",
        "Add → negative_prompt = \"... texture, dots, stippling, detailed noise\"\n",
        "And emphasize → \"solid flat fills, no small details\"."
      ]
    },
    {
      "cell_type": "code",
      "execution_count": null,
      "metadata": {
        "colab": {
          "base_uri": "https://localhost:8080/",
          "height": 66,
          "referenced_widgets": [
            "9dacfd6b6c3c49698181aacf30cbc6fa",
            "dfe692ea25f947bdaf640c4c7ce61d3a",
            "2038bd86b68c4807b6e4ccbf1bbb606a",
            "a1fa9468519f4437b49c91ca40462cb3",
            "b03467da14384b0f9ec5575def1b802a",
            "5d59daf3fc8c4b36a9cf9d07d3ea3bd4",
            "05b912a3a2404c38bcc102aeed8c5ef6",
            "4f5de8be71d04ad3b90666ae1f52160c",
            "ca4d6bfafa5e434fa0b18cf431b081c0",
            "e7beeef359de4d6a83b465728350f80d",
            "f309a09ce6a24962b60986d31665a8f6"
          ]
        },
        "id": "jOJpAWLsHc1E",
        "outputId": "d5c084ff-304d-4baf-ca2a-c5cd33b99aec"
      },
      "outputs": [
        {
          "data": {
            "application/vnd.jupyter.widget-view+json": {
              "model_id": "9dacfd6b6c3c49698181aacf30cbc6fa",
              "version_major": 2,
              "version_minor": 0
            },
            "text/plain": [
              "  0%|          | 0/30 [00:00<?, ?it/s]"
            ]
          },
          "metadata": {},
          "output_type": "display_data"
        },
        {
          "name": "stdout",
          "output_type": "stream",
          "text": [
            "Saved: /content/outputs/20250908-160041/quick_test/logo_diffusion_flat.png\n"
          ]
        }
      ],
      "source": [
        "#next prompt trial\n",
        "prompt = (\n",
        "    \"Cedar & Stone emblem-only logo symbol, minimal flat vector style, \"\n",
        "    \"coffee beans merging with a cedar tree silhouette, circular emblem, \"\n",
        "    \"geometric, simple, scalable, solid flat fills, \"\n",
        "    \"modern professional branding, color palette of dark brown, beige, and forest green\"\n",
        ")\n",
        "\n",
        "negative_prompt = (\n",
        "    \"text, typography, font, words, writing, letters, watermark, \"\n",
        "    \"texture, dots, stippling, grain, noise, shading, gradients, bevel, emboss, \"\n",
        "    \"photorealistic, 3d render, busy, clutter\"\n",
        ")\n",
        "\n",
        "img = pipe1(\n",
        "    prompt=prompt,\n",
        "    negative_prompt=negative_prompt,\n",
        "    height=512, width=512,   # start small, upscale later\n",
        "    num_inference_steps=30,  # more steps = cleaner detail\n",
        "    guidance_scale=8.0       # stronger adherence to prompt\n",
        ").images[0]\n",
        "\n",
        "test_dir = BASE_DIR / \"quick_test\"\n",
        "test_dir.mkdir(parents=True, exist_ok=True)\n",
        "out1d = str(test_dir / \"logo_diffusion_flat.png\")\n",
        "img.save(out1d); print(\"Saved:\", out1d)\n"
      ]
    },
    {
      "cell_type": "markdown",
      "metadata": {
        "id": "MKf5q3K3IEmu"
      },
      "source": [
        "Better but shape is still not wow hahah"
      ]
    },
    {
      "cell_type": "code",
      "execution_count": null,
      "metadata": {
        "id": "y3KFBnDcIIHU"
      },
      "outputs": [],
      "source": [
        "#Switch to a sampler that’s great for crisp, flat shapes\n",
        "from diffusers import EulerAncestralDiscreteScheduler, DPMSolverMultistepScheduler\n",
        "\n",
        "# Try Euler A first (often best for logo-like crispness). If you prefer, swap to DPM-Solver after.\n",
        "pipe1.scheduler = EulerAncestralDiscreteScheduler.from_config(pipe1.scheduler.config)\n",
        "# Alternative:\n",
        "# pipe1.scheduler = DPMSolverMultistepScheduler.from_config(pipe1.scheduler.config)\n"
      ]
    },
    {
      "cell_type": "code",
      "execution_count": null,
      "metadata": {
        "id": "kOeNZsbEIqnU"
      },
      "outputs": [],
      "source": [
        "#Use an ultra-flat, emblem-only prompt\n",
        "POS = (\n",
        "    \"Cedar & Stone emblem-only logo symbol, flat 2D vector icon, \"\n",
        "    \"cedar tree + coffee bean fusion, circular badge, bold silhouette, \"\n",
        "    \"simple geometry, thick clean outline, solid flat fills, no lighting, no shadows, \"\n",
        "    \"modern professional branding, color palette dark brown, beige, forest green\"\n",
        ")\n",
        "\n",
        "NEG = (\n",
        "    \"text, typography, letters, words, writing, watermark, caption, \"\n",
        "    \"photorealistic, 3d, perspective, lighting, shadow, highlight, \"\n",
        "    \"gradients, shading, texture, dots, stippling, grain, noise, bevel, emboss, glow, clutter, background scene\"\n",
        ")\n"
      ]
    },
    {
      "cell_type": "code",
      "execution_count": null,
      "metadata": {
        "colab": {
          "base_uri": "https://localhost:8080/",
          "height": 313,
          "referenced_widgets": [
            "961bc5ca329f404b89fbf7b4fb0cdaa1",
            "5da890af385849bdbbf6f070ab02a444",
            "e9ab3b22c48b4eb384573ebe320e92e6",
            "bccf049172764f1e910fc70eed76b9b1",
            "36c17c86ae9748a6a2308cfcadd38c97",
            "2bd9ec1cdb454e1d9f5405faa66c378b",
            "60049432f3cb430c9569e72c7f5efb57",
            "fc0be15e56314b9790e992c1998ca9b0",
            "2eedb5bc91774c9186e9669d2b90453f",
            "269f2c3909f54262938c4248ab801fe7",
            "89c047610d324a6da7b2ebdd259b9a53",
            "7e342e06067f410397fe47360cee8dd6",
            "daa3f60d31944122ae9e787ff2d62f55",
            "30bbd261934a4fb88046996bd46aca1e",
            "a4de200e11064f49a02c8c2a6a66bcce",
            "49d4d973fc704a92aa4c39c7b06affbe",
            "fa448052fe4a4cc6935d0089c43d9f3b",
            "62986b68d545421c87a896abb5d90b6c",
            "6946b234616045e8b5909031f7d07783",
            "ea7209268969414f8f81a0e4c33b5000",
            "70d754d713394b69b49602dba7520489",
            "d189a329e25d41169bc08bd169dc4abf",
            "125eff8ae0d746be8a6695a9768f132c",
            "6d6b8f0bd6f84e7aa1caaf899ed8846d",
            "82cc4ba32e074fe6a8841cff89f505c2",
            "07133b9956614a2ca2f592c437fadd27",
            "857d4ef9c042412a9b4f57613cd2fe46",
            "8ebd568a85d24d2b970a8cda88d1ae9a",
            "59f5750848f94a728b6c0b84d06e1a41",
            "8889c33fb6754c23b8eec953fa44a137",
            "19a7c6700e814d8d9a254ed0fa4d4172",
            "ab35d75307fe483ba1e231a400fbd5aa",
            "6217f342bc33453fa5d66683f171d251",
            "a135ee8e503b49ec8810d8c3e21be587",
            "3a368f9e60ad44e59a40795ad14dba3f",
            "8ca4a9ccc3184c0e97440e69ea093336",
            "def74d21cd7e48b9a5d69175ae5b2c7b",
            "4b57a1e5b935469bb62b3ff44cd0e195",
            "44aac9d2518e4b8ca70d340c66982ee7",
            "46de5c41f3884c63899aafc0015b0c80",
            "8ba40ec973a24de49919f4ac03224cde",
            "88ab9512a14f4c088b6b998519786861",
            "4e6e958a46844937b29d7891af6303a6",
            "e5cb9f1109e944e4a2e462e68d1403e3",
            "db3c9239110b48dfbfbe911293ef8047",
            "6cc4020811f441ed951a381b13623d7c",
            "21fb24d7e75147d484550be87e2348cf",
            "f7ede666d9b041f69741ba54099a848c",
            "53d53f4df53d4c238ae0a2049edcbda4",
            "4a42c6ee07fd4d5fb2c478dd3a837f05",
            "6533b1ba73e7483b85cd94e6edfd0ac1",
            "73d5300938644f59baed326b241cf561",
            "dec436d62d394bb689b43d20ab940ee4",
            "78b2ab628e94494ab1b6fc9ea71171a0",
            "0ae0f126467e4b39a8a19de11b1e4339",
            "adc9c0faca9844b5b5cb341cb24670c4",
            "97d17565ee124ae5b9753e333ff70919",
            "db59a2036da94695b9856256ed1532ba",
            "2a4ab21b191349bbb5542495049ec262",
            "b07dd9ed35254f85809ddb00b4c60b58",
            "46f64c4e2b28443b97339c2af8987ea7",
            "032197984f8e4b5c9cbb5a002b9f49c3",
            "7b7a76a6325a4acaa53f4e79ff828216",
            "929a8f60323c420ea806ca79f57240af",
            "318854e5fe80448c85e98cd79c3464f1",
            "a0511b5b892744eaa5316b0b78e3f2b5"
          ]
        },
        "id": "-9xKbf8nIzn6",
        "outputId": "ed214f57-de55-4bbd-a846-d7ee62d94a86"
      },
      "outputs": [
        {
          "data": {
            "application/vnd.jupyter.widget-view+json": {
              "model_id": "961bc5ca329f404b89fbf7b4fb0cdaa1",
              "version_major": 2,
              "version_minor": 0
            },
            "text/plain": [
              "  0%|          | 0/20 [00:00<?, ?it/s]"
            ]
          },
          "metadata": {},
          "output_type": "display_data"
        },
        {
          "data": {
            "application/vnd.jupyter.widget-view+json": {
              "model_id": "7e342e06067f410397fe47360cee8dd6",
              "version_major": 2,
              "version_minor": 0
            },
            "text/plain": [
              "  0%|          | 0/20 [00:00<?, ?it/s]"
            ]
          },
          "metadata": {},
          "output_type": "display_data"
        },
        {
          "data": {
            "application/vnd.jupyter.widget-view+json": {
              "model_id": "125eff8ae0d746be8a6695a9768f132c",
              "version_major": 2,
              "version_minor": 0
            },
            "text/plain": [
              "  0%|          | 0/20 [00:00<?, ?it/s]"
            ]
          },
          "metadata": {},
          "output_type": "display_data"
        },
        {
          "data": {
            "application/vnd.jupyter.widget-view+json": {
              "model_id": "a135ee8e503b49ec8810d8c3e21be587",
              "version_major": 2,
              "version_minor": 0
            },
            "text/plain": [
              "  0%|          | 0/20 [00:00<?, ?it/s]"
            ]
          },
          "metadata": {},
          "output_type": "display_data"
        },
        {
          "data": {
            "application/vnd.jupyter.widget-view+json": {
              "model_id": "db3c9239110b48dfbfbe911293ef8047",
              "version_major": 2,
              "version_minor": 0
            },
            "text/plain": [
              "  0%|          | 0/20 [00:00<?, ?it/s]"
            ]
          },
          "metadata": {},
          "output_type": "display_data"
        },
        {
          "data": {
            "application/vnd.jupyter.widget-view+json": {
              "model_id": "adc9c0faca9844b5b5cb341cb24670c4",
              "version_major": 2,
              "version_minor": 0
            },
            "text/plain": [
              "  0%|          | 0/20 [00:00<?, ?it/s]"
            ]
          },
          "metadata": {},
          "output_type": "display_data"
        },
        {
          "data": {
            "text/plain": [
              "[PosixPath('/content/outputs/20250908-160041/model1_ultraflat/m1_ultraflat_s11_640.png'),\n",
              " PosixPath('/content/outputs/20250908-160041/model1_ultraflat/m1_ultraflat_s22_640.png'),\n",
              " PosixPath('/content/outputs/20250908-160041/model1_ultraflat/m1_ultraflat_s33_640.png'),\n",
              " PosixPath('/content/outputs/20250908-160041/model1_ultraflat/m1_ultraflat_s44_640.png'),\n",
              " PosixPath('/content/outputs/20250908-160041/model1_ultraflat/m1_ultraflat_s55_640.png'),\n",
              " PosixPath('/content/outputs/20250908-160041/model1_ultraflat/m1_ultraflat_s66_640.png')]"
            ]
          },
          "execution_count": 14,
          "metadata": {},
          "output_type": "execute_result"
        }
      ],
      "source": [
        "#Generate a small grid of variations (different seeds) and pick the cleanest\n",
        "import random, os\n",
        "random_seeds = [11, 22, 33, 44, 55, 66]  # change if you want different looks\n",
        "grid_dir = BASE_DIR / \"model1_ultraflat\"; grid_dir.mkdir(parents=True, exist_ok=True)\n",
        "\n",
        "def run_one(seed, size=640, steps=20, guidance=6.5):\n",
        "    generator = torch.Generator(device=pipe1.device).manual_seed(seed)\n",
        "    img = pipe1(\n",
        "        prompt=POS,\n",
        "        negative_prompt=NEG,\n",
        "        height=size, width=size,                 # go 640 first; bump to 768 if VRAM is fine\n",
        "        num_inference_steps=steps,\n",
        "        guidance_scale=guidance,\n",
        "        generator=generator\n",
        "    ).images[0]\n",
        "    out = grid_dir / f\"m1_ultraflat_s{seed}_{size}.png\"\n",
        "    img.save(out); return out\n",
        "\n",
        "outs = [run_one(s) for s in random_seeds]\n",
        "outs\n"
      ]
    },
    {
      "cell_type": "markdown",
      "metadata": {
        "id": "aof5bp8RE7fG"
      },
      "source": [
        "Step 4: Model 2 - T2I-Adapter (Color) + SD-1.4 base"
      ]
    },
    {
      "cell_type": "markdown",
      "metadata": {
        "id": "oqT3lBlfK3E0"
      },
      "source": [
        "step 4.1 - Loader"
      ]
    },
    {
      "cell_type": "code",
      "execution_count": null,
      "metadata": {
        "colab": {
          "base_uri": "https://localhost:8080/",
          "height": 682,
          "referenced_widgets": [
            "42a7d14cb30a428d956f0600d706434c",
            "e68af68eb1924a9c855bf6b08d5b3fc9",
            "48885175a65a40db8afc13c33ac12374",
            "e099b658ce6e4d8c9bcdc61e08b09900",
            "487a3d53d45e4ac8b6d9c5152eef1bfd",
            "4986c014c254436291a3a73ba0ab1456",
            "223812bf55cd4c20a2b0c20132da2771",
            "045677ece0674a2f95ac5385ac1f33e0",
            "2b2cfc1596ba42c1aa86b92c41ba5e5a",
            "1558cc6e3d3a49b9b9405e0dba18b186",
            "8b9e533a83bf474e8b46e6c031213c42",
            "c1b741b4d39b48dda70277bc775945d2",
            "a3c11b4cf5144cabaeaaf316c821b877",
            "8a9770fa2a174d9f9b2212873920dd9d",
            "b451da7805e54308bd2b8ed2d10794b7",
            "9b173defde674a84a95665bea50b5fad",
            "25ec1a50923e42b1af5618f66ac3ce2c",
            "566c31ab6ca34a0ab7b92a2b243e2f6f",
            "cc4d40f99872488b9b132481191cd250",
            "bd11817ca2e14639975ac9f2cae413fe",
            "885f9c3acd3e4f229fa83f1d994ed781",
            "559077a791a842adaca54f2e9c979300",
            "e69ae8d26f7f4854adc51c36eab05619",
            "1fc8f5e0d9f741ac93254117b8848aa1",
            "6baaa853374e46e989a6ddfa0eedfc56",
            "576f175ce5dd486384ad6c9a09eed9b5",
            "9458e863ae10480d9f27d7964b0f6aac",
            "e15c85d5793b4f7293ff9936d07bd777",
            "adc81d1410e545018ab1bcde84235237",
            "628993478d564b1daf5ff1254b183ecf",
            "68d07f23ac894361859120cf94b48cfc",
            "a8beb8c4dbfa4314bf1d9fc0ae161139",
            "659cf4a480644738a1f70299dc8e9ffa",
            "74905daa18a14307b756486b83785b48",
            "aedeb5e4cb704bfdb129d44d4d6cfc5d",
            "4645bc7ebf8c402f80f310c0da2d4879",
            "103127c29292411093a44fbea2f66193",
            "aeff086361944e9bafde80efab6dd510",
            "b767b4ccfc214af7a86fef8893e02220",
            "4a5513de19bd46e88a1a2004c7576737",
            "74a4bf4790af462dba78ecee50ce75f1",
            "ec42e95c25ab4cee990a2a449bfc5258",
            "c206c0b0d4404cdbbdba024bb3e41411",
            "0e0dfcf759b143f583c6bc4cabec1d78",
            "80b33e29a94b416aa19bd1c7dcd885e7",
            "0555e0fa28e24601b84aeb38fa538a6c",
            "cd623fbafe884a599c9542aecf4dae78",
            "c4342f7e691544108736365109ae6cc4",
            "122bffa52afd4bb6b5f9efdd0e242362",
            "da727411df2641f0bde6e323d5b7b338",
            "71243bb772574b05bdde3ec69e7f2d3c",
            "2cca6ce7f4ab4e4f8a89164dc921d007",
            "4a0b4569ad6b4404b3030b025ca7e77f",
            "9cb48dbc87674edfa1c2ca280adf3450",
            "974a48ceaacb4f0598415687981cef7a",
            "1cda7ae39d984d90b42f1c850be9e335",
            "31209d2b22b64e819744501ddaeb6c4c",
            "bf5c0b395b36401bae4fb393f146b26e",
            "4f93140ef9824c7ebb39a04ba2005003",
            "314786df8ec041b992bc66343c70d890",
            "9d729392f1f24b4f9eb8ad3915f9dd57",
            "43cff4e8eeca4e0ca4336d40ae0784ab",
            "863013baa0f44e739e96039e6c131d10",
            "90dc891a6deb4862b8da37d4c65258f4",
            "0c19ee18c915456bad57dd854bb73d05",
            "069465279bed485f8244ec62c2b95d57",
            "db06d6704c0c4ee2921c126460b9adbd",
            "283d1a26cae44b18af8dc703f05e9222",
            "6eefbd84d8ef40b09da3619748530995",
            "c847044480064e8ab0455bdf3318d2ab",
            "f90257894f9a4b12b226bb6036d05b69",
            "1a33d2a610a44a95b172fcbd7ff36196",
            "526c749a87a1413fa4e1e2da49ef9c8e",
            "3726d0b987b941ac9f9fbd44215c0be7",
            "fc5c83db9f69409190db467c2f661675",
            "3fd8d345bcbf49788b3621162386898d",
            "36c468b889ef44da8a3428be44fd08ce",
            "800322a55f2e4c21a3486e249938331a",
            "7146f94983034a7186fbbad982ffd7cd",
            "395345f069c24203a1e38292ac39c6e6",
            "913974af4cb24ec086fd850bed9bbfc5",
            "2d17b9dd7547444188e96484a56a3b59",
            "97e0cca0e48b4963a07f070ed64e484e",
            "50feb07cd2fa414e87998f4ef77c3d62",
            "ce30f9391028477fb361c142e3988dfe",
            "02bee1c0e3c1446d910f1099eb42f212",
            "8748c09f28084aa485eccbe14340c77f",
            "c056340a245e43c9b89968449724a38a",
            "6774cf425d794227ae3555a57f0d9379",
            "79393a9cbb0d4fbc990511fcd0438612",
            "f4e520700be14e60b4d392ee6e1c2d85",
            "be29f899882a4c5596dd2622e4723a60",
            "edb6431c6eff4dd8aeb94e9c15d176a7",
            "5a68773f7cbc46939f7eedffff1e58bd",
            "998ace52d25941f491426023e8b796a7",
            "5354fb6caf2044c5a4333f09a056cc6f",
            "5e9ab2b59b794c788dd2412037cbddcb",
            "31dcaf04e358416ba28eace3ab50e662",
            "9ffae4eda7da44c097176fab0767bfde",
            "c141a30717984f14861f27570f171d40",
            "c18c975b49e94d7cb1df3f451d07f64c",
            "0952624c21334be98ff1d7ae682fabf7",
            "c82893b3ccce41d5a3bc9d3645e059e9",
            "fa9ebf2c59854796a7ffa162c3cd4772",
            "8c60896aced44d958df6701747d40d01",
            "2769ec2316ea44ffbf913341773eb1aa",
            "9f20eab53b5e4fddb8e30e0d1869178c",
            "1c556ebd5873471aa1ffeb912bcd28e7",
            "dbdad6f4a582475bafe71e9b8ff4161b",
            "21f1da4403aa4d968e71952052a3567f",
            "e4086571a4dd4f8a826f49fe789daabb",
            "1cf2aeec172b470682ab90a532b695f3",
            "39732a30708d4cd78561f06fe158af7a",
            "04ce0ad2cf634fa28f5f1859ced98599",
            "4502aa7b9ca945acbbbf4b0e94428f70",
            "c448474591164684a462cbc2d58dcc19",
            "b8439cd538f64efda4eb1ee61dbfee6f",
            "75bc02abafad4c5b8bf4363189a7687b",
            "c5c86608dab44085ad20159179d49463",
            "a9375c7ac9d34ea083f5cd3257f4f897",
            "483317b4304240bda5c83aebc35dcc42",
            "070e3a0681514939a6ced5e94c7984ec",
            "b352b17f4e3f459a8254cf78d382d5a4",
            "1c56c31eb5a94d0bbbacd699b0f5a2cc",
            "79a53d34966c474996a44968177e6818",
            "1b67b3aa14bc4ddfad3b07b8f3fc8ae4",
            "9a4bcceb16c04a8fb3ff459cd742cd8a",
            "1ee56f8e019f4caba953409d03321fc5",
            "e9080811b011499f9a38292d98ba1094",
            "ff58878564314990b4af3bc68457a8a4",
            "a4a2217bff004b8f9e10fd18541ce9b2",
            "5d40c7e050534737b9a12ff977b812b5",
            "ae913441182747b283e660da67c4dcc4",
            "0cbda1a24efd43199da5190cd6cd43c9",
            "07ecf64a65c5421f8aac98d01cda0437",
            "3fc0442793bc47e398ba0dff0f047e19",
            "4aad1fbe3fef4a91a28f0fc6d2e66c6a",
            "bff3f3080f57437daeddf5f8b271ea86",
            "64a1bbe318ab4cbd9332e270a0f7247e",
            "f32f43866ed546d589e3c35797b6ecdc",
            "b4e31cbb94e64b209907128e9d04ddfb",
            "20451ce9979d42d4b37254ee179f29cd",
            "f895d10b59d84ac9a03a3556ac9fd803",
            "09ae42f534c9424ab6cb559d722ff98d",
            "494a95d95710499b8552d222ed7bf5f8",
            "b3702c64cb95469a8d6ce9783b6d30c3",
            "ba9d6696cec04a57b4b9c22b883a2bae",
            "30eea118f4074f3798c17dc9ab384990",
            "84563f4f03954275b1ab1cc4735dd4da",
            "8b036e7f72274bcfaa37d46a4bd46534",
            "bd8cca56ec3841d39e64ea82f96566ce",
            "1a0bbda122e547688d4f9c40323dd546",
            "57ad70a59f5d40f39f302d5a88eed113",
            "6ace7609625b4fbb9c474ef97227bb72",
            "55e5ec25aa134ec685ea2a5af8dee6a8",
            "b6708e4a37f742d795f4b881fb584d68",
            "9be308ef84fa41f79ada30dc976dd4e4",
            "b67a1d1d32ee4d93993f6080d2e582ea",
            "5c36b30ecf844b69a81be48f921dcba5",
            "3fb2cf4b960a4889a082670d9221090c",
            "4a2700c61901408bac10137a353b5c38",
            "bf241ecfc8cd44d38428be362881dae8",
            "26abdc6478dd4951bbe440a2b6774a97",
            "6166178b36894df0aa25daa36ceebea7",
            "6d62e161f320499fa47de635387fa495",
            "4f1ed8e976074501b4357bfbaec67c9e",
            "168d72b9638e4982b47ba4c8fc8ed7cc",
            "a679633869c547729cd8d973d9267f3a",
            "ef81682227874866b379e5dad532f022",
            "92f1c0881adb4b21965648313395763d",
            "bf0c02c667dc404a95c0929b9a349e1b",
            "7dbf53751acb4908b3d7690594ae6568",
            "bf0da475078c429ab61ce539c083a67c",
            "c879b98e4e8e43b19eae3d47c9b9d8f0",
            "dc9d6313a8e3476694d5b59d03b9bb30",
            "6f1d152ca5a24e54a7e361e4f5330b62",
            "650642e9a13f4c6c9483e954a8e5ad7f",
            "5ce110d4c88049b0893b82e36dd8434b",
            "2a2e5ed41c6d452c821336210a0a6bf5",
            "b0cde8446dab491f9e11505808641dd8",
            "c275ec853a25440ab9bb1ffaf7d43c9a",
            "6ba05baee0b24e06b7d0500edc984e70",
            "f0b7c2a1274a475ab8023cd4a74a9dc7",
            "a552cabceccf4307a7ee7c745a499fa0",
            "81704460e7f84f9e85b06e94594f5114",
            "04c9926f47b646919cb1894f9cb54073",
            "3225517c53ae4214ab2b1d66368c6990",
            "e579d1b598894343954fcf8ebe1e52ea",
            "cf1a42a8d9b0450b80715d44b7e660d2",
            "52388198715140b69d3ecb5952e514ff",
            "3ca6b985174d486fb04b9de9cdd02bf0",
            "32f0248910934fd3a8d6b58dff91cbfb",
            "b06dd2e352db4eeaabd3a7b7b628c0c0",
            "092a94f5165343f1a7aba121b86c734c",
            "7f17e649d593429b82cdce349ab0ab17",
            "38510486fc4849ccbf397f986ba12f11",
            "efff5afdba1046d4accbc6ebf381105c",
            "2db8bf62be624779b3bcd4e6a75e3a34"
          ]
        },
        "id": "E1PkvoUbFAFt",
        "outputId": "5531fd70-6322-42c0-c9f2-12902c77a873"
      },
      "outputs": [
        {
          "data": {
            "application/vnd.jupyter.widget-view+json": {
              "model_id": "42a7d14cb30a428d956f0600d706434c",
              "version_major": 2,
              "version_minor": 0
            },
            "text/plain": [
              "config.json:   0%|          | 0.00/199 [00:00<?, ?B/s]"
            ]
          },
          "metadata": {},
          "output_type": "display_data"
        },
        {
          "name": "stderr",
          "output_type": "stream",
          "text": [
            "An error occurred while trying to fetch TencentARC/t2iadapter_color_sd14v1: TencentARC/t2iadapter_color_sd14v1 does not appear to have a file named diffusion_pytorch_model.safetensors.\n",
            "Defaulting to unsafe serialization. Pass `allow_pickle=False` to raise an error instead.\n"
          ]
        },
        {
          "data": {
            "application/vnd.jupyter.widget-view+json": {
              "model_id": "c1b741b4d39b48dda70277bc775945d2",
              "version_major": 2,
              "version_minor": 0
            },
            "text/plain": [
              "diffusion_pytorch_model.bin:   0%|          | 0.00/74.8M [00:00<?, ?B/s]"
            ]
          },
          "metadata": {},
          "output_type": "display_data"
        },
        {
          "data": {
            "application/vnd.jupyter.widget-view+json": {
              "model_id": "e69ae8d26f7f4854adc51c36eab05619",
              "version_major": 2,
              "version_minor": 0
            },
            "text/plain": [
              "model_index.json:   0%|          | 0.00/541 [00:00<?, ?B/s]"
            ]
          },
          "metadata": {},
          "output_type": "display_data"
        },
        {
          "data": {
            "application/vnd.jupyter.widget-view+json": {
              "model_id": "74905daa18a14307b756486b83785b48",
              "version_major": 2,
              "version_minor": 0
            },
            "text/plain": [
              "Fetching 14 files:   0%|          | 0/14 [00:00<?, ?it/s]"
            ]
          },
          "metadata": {},
          "output_type": "display_data"
        },
        {
          "data": {
            "application/vnd.jupyter.widget-view+json": {
              "model_id": "80b33e29a94b416aa19bd1c7dcd885e7",
              "version_major": 2,
              "version_minor": 0
            },
            "text/plain": [
              "scheduler_config.json:   0%|          | 0.00/313 [00:00<?, ?B/s]"
            ]
          },
          "metadata": {},
          "output_type": "display_data"
        },
        {
          "data": {
            "application/vnd.jupyter.widget-view+json": {
              "model_id": "1cda7ae39d984d90b42f1c850be9e335",
              "version_major": 2,
              "version_minor": 0
            },
            "text/plain": [
              "preprocessor_config.json:   0%|          | 0.00/342 [00:00<?, ?B/s]"
            ]
          },
          "metadata": {},
          "output_type": "display_data"
        },
        {
          "data": {
            "application/vnd.jupyter.widget-view+json": {
              "model_id": "db06d6704c0c4ee2921c126460b9adbd",
              "version_major": 2,
              "version_minor": 0
            },
            "text/plain": [
              "special_tokens_map.json:   0%|          | 0.00/472 [00:00<?, ?B/s]"
            ]
          },
          "metadata": {},
          "output_type": "display_data"
        },
        {
          "data": {
            "application/vnd.jupyter.widget-view+json": {
              "model_id": "800322a55f2e4c21a3486e249938331a",
              "version_major": 2,
              "version_minor": 0
            },
            "text/plain": [
              "config.json:   0%|          | 0.00/592 [00:00<?, ?B/s]"
            ]
          },
          "metadata": {},
          "output_type": "display_data"
        },
        {
          "data": {
            "application/vnd.jupyter.widget-view+json": {
              "model_id": "6774cf425d794227ae3555a57f0d9379",
              "version_major": 2,
              "version_minor": 0
            },
            "text/plain": [
              "merges.txt: 0.00B [00:00, ?B/s]"
            ]
          },
          "metadata": {},
          "output_type": "display_data"
        },
        {
          "data": {
            "application/vnd.jupyter.widget-view+json": {
              "model_id": "c141a30717984f14861f27570f171d40",
              "version_major": 2,
              "version_minor": 0
            },
            "text/plain": [
              "tokenizer_config.json:   0%|          | 0.00/806 [00:00<?, ?B/s]"
            ]
          },
          "metadata": {},
          "output_type": "display_data"
        },
        {
          "data": {
            "application/vnd.jupyter.widget-view+json": {
              "model_id": "e4086571a4dd4f8a826f49fe789daabb",
              "version_major": 2,
              "version_minor": 0
            },
            "text/plain": [
              "text_encoder/model.safetensors:   0%|          | 0.00/492M [00:00<?, ?B/s]"
            ]
          },
          "metadata": {},
          "output_type": "display_data"
        },
        {
          "data": {
            "application/vnd.jupyter.widget-view+json": {
              "model_id": "070e3a0681514939a6ced5e94c7984ec",
              "version_major": 2,
              "version_minor": 0
            },
            "text/plain": [
              "vocab.json: 0.00B [00:00, ?B/s]"
            ]
          },
          "metadata": {},
          "output_type": "display_data"
        },
        {
          "data": {
            "application/vnd.jupyter.widget-view+json": {
              "model_id": "ae913441182747b283e660da67c4dcc4",
              "version_major": 2,
              "version_minor": 0
            },
            "text/plain": [
              "config.json:   0%|          | 0.00/743 [00:00<?, ?B/s]"
            ]
          },
          "metadata": {},
          "output_type": "display_data"
        },
        {
          "data": {
            "application/vnd.jupyter.widget-view+json": {
              "model_id": "09ae42f534c9424ab6cb559d722ff98d",
              "version_major": 2,
              "version_minor": 0
            },
            "text/plain": [
              "scheduler_config-checkpoint.json:   0%|          | 0.00/209 [00:00<?, ?B/s]"
            ]
          },
          "metadata": {},
          "output_type": "display_data"
        },
        {
          "data": {
            "application/vnd.jupyter.widget-view+json": {
              "model_id": "55e5ec25aa134ec685ea2a5af8dee6a8",
              "version_major": 2,
              "version_minor": 0
            },
            "text/plain": [
              "config.json:   0%|          | 0.00/551 [00:00<?, ?B/s]"
            ]
          },
          "metadata": {},
          "output_type": "display_data"
        },
        {
          "data": {
            "application/vnd.jupyter.widget-view+json": {
              "model_id": "4f1ed8e976074501b4357bfbaec67c9e",
              "version_major": 2,
              "version_minor": 0
            },
            "text/plain": [
              "vae/diffusion_pytorch_model.safetensors:   0%|          | 0.00/335M [00:00<?, ?B/s]"
            ]
          },
          "metadata": {},
          "output_type": "display_data"
        },
        {
          "data": {
            "application/vnd.jupyter.widget-view+json": {
              "model_id": "650642e9a13f4c6c9483e954a8e5ad7f",
              "version_major": 2,
              "version_minor": 0
            },
            "text/plain": [
              "unet/diffusion_pytorch_model.safetensors:   0%|          | 0.00/3.44G [00:00<?, ?B/s]"
            ]
          },
          "metadata": {},
          "output_type": "display_data"
        },
        {
          "data": {
            "application/vnd.jupyter.widget-view+json": {
              "model_id": "e579d1b598894343954fcf8ebe1e52ea",
              "version_major": 2,
              "version_minor": 0
            },
            "text/plain": [
              "Loading pipeline components...:   0%|          | 0/6 [00:00<?, ?it/s]"
            ]
          },
          "metadata": {},
          "output_type": "display_data"
        },
        {
          "name": "stderr",
          "output_type": "stream",
          "text": [
            "You have disabled the safety checker for <class 'diffusers.pipelines.t2i_adapter.pipeline_stable_diffusion_adapter.StableDiffusionAdapterPipeline'> by passing `safety_checker=None`. Ensure that you abide to the conditions of the Stable Diffusion license and do not expose unfiltered results in services or applications open to the public. Both the diffusers team and Hugging Face strongly recommend to keep the safety filter enabled in all public facing circumstances, disabling it only for use-cases that involve analyzing network behavior or auditing its results. For more information, please have a look at https://github.com/huggingface/diffusers/pull/254 .\n"
          ]
        },
        {
          "name": "stdout",
          "output_type": "stream",
          "text": [
            "Model 2 ready.\n"
          ]
        }
      ],
      "source": [
        "# Base (SD 1.4) + Color Adapter\n",
        "from diffusers import StableDiffusionAdapterPipeline, T2IAdapter\n",
        "import torch\n",
        "\n",
        "DEVICE = \"cuda\" if torch.cuda.is_available() else \"cpu\"\n",
        "ADAPTER_ID = \"TencentARC/t2iadapter_color_sd14v1\"\n",
        "BASE_SD = \"CompVis/stable-diffusion-v1-4\"  # trained target for this adapter\n",
        "\n",
        "adapter = T2IAdapter.from_pretrained(\n",
        "    ADAPTER_ID,\n",
        "    torch_dtype=torch.float16 if torch.cuda.is_available() else torch.float32\n",
        ").to(DEVICE)\n",
        "\n",
        "pipe2 = StableDiffusionAdapterPipeline.from_pretrained(\n",
        "    BASE_SD,\n",
        "    adapter=adapter,\n",
        "    torch_dtype=torch.float16 if torch.cuda.is_available() else torch.float32,\n",
        "    safety_checker=None\n",
        ").to(DEVICE)\n",
        "\n",
        "# memory helpers (we skipped xformers)\n",
        "pipe2.enable_attention_slicing(); pipe2.enable_vae_slicing()\n",
        "print(\"Model 2 ready.\")\n"
      ]
    },
    {
      "cell_type": "markdown",
      "metadata": {
        "id": "pjDuutzELubJ"
      },
      "source": [
        "Step 4.2 - Palette helper"
      ]
    },
    {
      "cell_type": "code",
      "execution_count": null,
      "metadata": {
        "id": "6wP2RcEaL1X1"
      },
      "outputs": [],
      "source": [
        "from PIL import Image, ImageDraw\n",
        "\n",
        "def hex_to_rgb(h): h=h.strip().lstrip(\"#\"); return tuple(int(h[i:i+2],16) for i in (0,2,4))\n",
        "def make_palette_image(hex_list, grid=4, cell=64, pad=0):\n",
        "    W = grid*cell + (grid+1)*pad; H = W\n",
        "    img = Image.new(\"RGB\", (W,H), (255,255,255)); draw = ImageDraw.Draw(img)\n",
        "    cols = [hex_to_rgb(x) for x in (hex_list or [\"#000000\", \"#FFFFFF\"])]\n",
        "    k=0\n",
        "    for r in range(grid):\n",
        "        for c in range(grid):\n",
        "            x0=c*cell+(c+1)*pad; y0=r*cell+(r+1)*pad\n",
        "            draw.rectangle([x0,y0,x0+cell,y0+cell], fill=cols[k%len(cols)])\n",
        "            k+=1\n",
        "    return img\n",
        "\n",
        "# your Lebanese coffee palette (tweak as you like)\n",
        "PALETTE = [\"#0A2540\", \"#2E7D6F\", \"#6B3E2E\", \"#E8F5F2\", \"#E5D6B0\"]  # deep navy, cedar green, coffee brown, mint, sand\n",
        "palette_img = make_palette_image(PALETTE, grid=4, cell=64, pad=0)\n"
      ]
    },
    {
      "cell_type": "markdown",
      "metadata": {
        "id": "24fTFzZ3L4-g"
      },
      "source": [
        "Step 4.3 - Ultraflat prompts (text-free, emblem-only)"
      ]
    },
    {
      "cell_type": "code",
      "execution_count": null,
      "metadata": {
        "id": "KIUkAb4pMAH-"
      },
      "outputs": [],
      "source": [
        "POS2 = (\n",
        "    \"Cedar & Stone emblem-only logo symbol, flat 2D vector icon, \"\n",
        "    \"cedar tree + coffee bean fusion, circular badge, bold silhouette, \"\n",
        "    \"simple geometry, thick clean outline, solid flat fills, no lighting, no shadows, \"\n",
        "    \"modern professional branding\"\n",
        ")\n",
        "NEG2 = (\n",
        "    \"text, typography, letters, words, writing, watermark, caption, \"\n",
        "    \"photorealistic, 3d, perspective, lighting, shadow, highlight, \"\n",
        "    \"gradients, shading, texture, dots, stippling, grain, noise, bevel, emboss, glow, clutter, background scene\"\n",
        ")\n"
      ]
    },
    {
      "cell_type": "markdown",
      "metadata": {
        "id": "M55CN1VtMDpv"
      },
      "source": [
        "Step 4.4 - Generate a small seed sweep (pick your favorite)"
      ]
    },
    {
      "cell_type": "code",
      "execution_count": null,
      "metadata": {
        "colab": {
          "base_uri": "https://localhost:8080/",
          "height": 368,
          "referenced_widgets": [
            "07e43cda88b7414698a9a6f81ce0a98e",
            "09b5f2f1e29a4348869e3a6a0310d692",
            "66cbee0324f84fb99e4873bd80a87cdc",
            "c0eb8a7c930e4a2b9b29802a7818c6ef",
            "29ddfa2863644c759583ad7a993d262d",
            "0c8235af05654884a307fa15f404dd78",
            "48927ab2698a4ba2b917ae71f59067db",
            "d560a86f70574d8da8a5c71952ff96dd",
            "0eaff0cfb9a140df9020691765c6c11b",
            "926ec9d040694f77ac6543e536c3aeb1",
            "e556e200fda3477f8a5319a24164cd60",
            "eb9f889a478743ef871b0ecde38c3b1e",
            "ea402e075c8e4849845cfae485901df3",
            "bdf89966645f4ec294bd644d93edafe7",
            "3c3f2d6b691d4e308d1b0bb50e2909e3",
            "12b0f69ab8344ffa808e850dc132146b",
            "cb34dc07da3c4d57ba2a34a586b3c0bf",
            "844c85ca1ab44be2a784a8a6895335fa",
            "a1a2ca8715c74b21adedb04e5172eb8d",
            "364853530d5e44729c8af51d1b5477ed",
            "cb88b341ac724da09e622b6075a9e3c9",
            "a43b1b7490724a1983fe1f044d2deafa",
            "2f60333cd54e4b9e978dd41d8a1d3a48",
            "865aa2b3705c428abc317b69a5c8eaf8",
            "8e5cb628b2cb4d39bcf5834fbdad87b4",
            "8f16508fc1b14b4ab63b3f9c12868d91",
            "afd27ad3a465435d89b93857dbbb1d90",
            "5478f67a7f954e6a86b239e828588a90",
            "aff2d8cbf236424abe474b7a7cf22e50",
            "5bdff79333e34f32a76798317d63c055",
            "1be616abe5e84625844fd65c23d9e454",
            "d12d56c1d1a145c8965ef0f96c39131f",
            "525d5d6384b4494f8ccf84bfd0b9610d",
            "0735b8c4fa8c47b898f47b68859b178f",
            "ea25509e8f7c4805b8c010c3f3c14b57",
            "07b6b2516ac140c1bef3ff5fe52dee95",
            "495ee4b5e81f4d408bcf85f8eb9e5a71",
            "aacebcbf74bf4a6bac0f7611ea770a9b",
            "abecba919acc4603a59e1ffe406550ef",
            "fadfe061146d4571805326ef2b7b6cae",
            "847109a84ccd4152bf9e5f053e20e494",
            "cd5759b3ce3845869654a430c792addc",
            "1a3d36a332df46d2ab7e75430a51f03c",
            "a8cabd27a8244d20b374667353096ded",
            "1416f9a703e44769836031027ccf9db2",
            "e760fcb62e54434689bd733eca73343b",
            "73acb7ffdc2348a487637ef44d064ab1",
            "8e1ab06a57f844adb1c9f2c786b6f61f",
            "e58218ec5cab4447a47e2367b80b8953",
            "3a0fce0927d64ccbbcfccdb4acd35eb1",
            "3ce046fe20784d0bbcb64d61055b105e",
            "e4bba5ca55624007b37fbdb55569f930",
            "cc37936b8aac444fab9a9ee38a933978",
            "e9a495ff667b41b789325b2e68772234",
            "65d08173092843bbb2d1a73cc9478f28",
            "611961d8ed504f5e93ba5a0c9f94d48b",
            "a04816dac8f24801b2a1a7159ade22f1",
            "112a8904b3b4489f9148cc14a895e249",
            "43c2cf3183d0477398db4cdd00edfb5b",
            "885bf092646e42caa4e1ea5139ff9827",
            "2c232b6dee194f49a49da6bfaed28b62",
            "0753e5df2e854c4e9638af5ba4386400",
            "fbf2157d92ea461cbbb312e589cbb9b6",
            "6b2d18e2c77e44449034ec8a7b7874fa",
            "6670c93f83dd47c9919e782fba18e352",
            "0630fb7fdc604b5ab0e899bb135d3734"
          ]
        },
        "id": "bUU8AzffMGxi",
        "outputId": "8ced7505-ffff-492b-9b62-32a451a014d5"
      },
      "outputs": [
        {
          "data": {
            "application/vnd.jupyter.widget-view+json": {
              "model_id": "07e43cda88b7414698a9a6f81ce0a98e",
              "version_major": 2,
              "version_minor": 0
            },
            "text/plain": [
              "  0%|          | 0/22 [00:00<?, ?it/s]"
            ]
          },
          "metadata": {},
          "output_type": "display_data"
        },
        {
          "name": "stderr",
          "output_type": "stream",
          "text": [
            "/usr/local/lib/python3.12/dist-packages/diffusers/pipelines/t2i_adapter/pipeline_stable_diffusion_adapter.py:500: FutureWarning: The decode_latents method is deprecated and will be removed in 1.0.0. Please use VaeImageProcessor.postprocess(...) instead\n",
            "  deprecate(\"decode_latents\", \"1.0.0\", deprecation_message, standard_warn=False)\n"
          ]
        },
        {
          "data": {
            "application/vnd.jupyter.widget-view+json": {
              "model_id": "eb9f889a478743ef871b0ecde38c3b1e",
              "version_major": 2,
              "version_minor": 0
            },
            "text/plain": [
              "  0%|          | 0/22 [00:00<?, ?it/s]"
            ]
          },
          "metadata": {},
          "output_type": "display_data"
        },
        {
          "data": {
            "application/vnd.jupyter.widget-view+json": {
              "model_id": "2f60333cd54e4b9e978dd41d8a1d3a48",
              "version_major": 2,
              "version_minor": 0
            },
            "text/plain": [
              "  0%|          | 0/22 [00:00<?, ?it/s]"
            ]
          },
          "metadata": {},
          "output_type": "display_data"
        },
        {
          "data": {
            "application/vnd.jupyter.widget-view+json": {
              "model_id": "0735b8c4fa8c47b898f47b68859b178f",
              "version_major": 2,
              "version_minor": 0
            },
            "text/plain": [
              "  0%|          | 0/22 [00:00<?, ?it/s]"
            ]
          },
          "metadata": {},
          "output_type": "display_data"
        },
        {
          "data": {
            "application/vnd.jupyter.widget-view+json": {
              "model_id": "1416f9a703e44769836031027ccf9db2",
              "version_major": 2,
              "version_minor": 0
            },
            "text/plain": [
              "  0%|          | 0/22 [00:00<?, ?it/s]"
            ]
          },
          "metadata": {},
          "output_type": "display_data"
        },
        {
          "data": {
            "application/vnd.jupyter.widget-view+json": {
              "model_id": "611961d8ed504f5e93ba5a0c9f94d48b",
              "version_major": 2,
              "version_minor": 0
            },
            "text/plain": [
              "  0%|          | 0/22 [00:00<?, ?it/s]"
            ]
          },
          "metadata": {},
          "output_type": "display_data"
        },
        {
          "data": {
            "text/plain": [
              "[PosixPath('/content/outputs/20250908-160041/model2_color/m2_color_s101_512_c1.0.png'),\n",
              " PosixPath('/content/outputs/20250908-160041/model2_color/m2_color_s202_512_c1.0.png'),\n",
              " PosixPath('/content/outputs/20250908-160041/model2_color/m2_color_s303_512_c1.0.png'),\n",
              " PosixPath('/content/outputs/20250908-160041/model2_color/m2_color_s404_512_c1.0.png'),\n",
              " PosixPath('/content/outputs/20250908-160041/model2_color/m2_color_s505_512_c1.0.png'),\n",
              " PosixPath('/content/outputs/20250908-160041/model2_color/m2_color_s606_512_c1.0.png')]"
            ]
          },
          "execution_count": 18,
          "metadata": {},
          "output_type": "execute_result"
        }
      ],
      "source": [
        "import os\n",
        "seeds = [101, 202, 303, 404, 505, 606]\n",
        "m2_dir = BASE_DIR / \"model2_color\"; m2_dir.mkdir(parents=True, exist_ok=True)\n",
        "\n",
        "def run_adapter(seed, size=512, steps=22, guidance=6.5, cond=1.0):\n",
        "    g = torch.Generator(device=pipe2.device).manual_seed(seed)\n",
        "    img = pipe2(\n",
        "        prompt=POS2,\n",
        "        negative_prompt=NEG2,\n",
        "        image=palette_img,                     # <-- color conditioning\n",
        "        height=size, width=size,               # SD1.x native 512; upscale later if needed\n",
        "        num_inference_steps=steps,\n",
        "        guidance_scale=guidance,\n",
        "        adapter_conditioning_scale=cond,       # try 0.6–1.4; higher = stronger palette lock\n",
        "        generator=g\n",
        "    ).images[0]\n",
        "    outp = m2_dir / f\"m2_color_s{seed}_{size}_c{cond}.png\"\n",
        "    img.save(outp); return outp\n",
        "\n",
        "outs2 = [run_adapter(s, size=512, steps=22, guidance=6.5, cond=1.0) for s in seeds]\n",
        "outs2\n"
      ]
    },
    {
      "cell_type": "code",
      "execution_count": null,
      "metadata": {
        "id": "sQYn1k4xNPN9"
      },
      "outputs": [],
      "source": [
        "#prompt tuning for structure\n",
        "#Add stronger shape + concept language in POS2\n",
        "POS2 = (\n",
        "    \"Cedar & Stone emblem-only logo symbol, flat 2D vector icon, \"\n",
        "    \"fusion of cedar tree silhouette and coffee bean, \"\n",
        "    \"bold circular badge, geometric balance, strong symmetry, \"\n",
        "    \"minimalist professional branding, solid flat fills, no shading\"\n",
        ")\n",
        "NEG2 = (\n",
        "    \"text, typography, letters, words, writing, watermark, captions, ornate, filigree, \"\n",
        "    \"photorealistic, 3d, gradients, shading, texture, dots, stippling, grain, \"\n",
        "    \"abstract app icon, rounded square background\"\n",
        ")\n"
      ]
    },
    {
      "cell_type": "code",
      "execution_count": null,
      "metadata": {
        "colab": {
          "base_uri": "https://localhost:8080/",
          "height": 368,
          "referenced_widgets": [
            "83a5925acde148fe9c12c831babf86c0",
            "6fcddb6e64f24a5b9f542b3e792ea280",
            "8cf424898910419e87f2956ad344d134",
            "d349e7c6631040618613349579159b0e",
            "3ad9ff4d0c7546d18122137a98b0f7ca",
            "e8406e262ac64e369ce8894fa7bb44b4",
            "fd26512a4b1f41c1a18e40956f8c92d2",
            "15cb7cc0ab634b07a77885aa7ad8c8dc",
            "f9ac94397b3e4ee893f1dea83172bd0c",
            "7b8f916a01ef4e46b1e89df23db2c79c",
            "f44324f544934b2c808b4594db124a1e",
            "6135088f4cc8424291c7347be4c9d4fe",
            "6f692faaa1324553bc5e8ec872335231",
            "c3c8467326b848778d7f44ad256b28f3",
            "6ddf66af28ae438ab2331b4c97451c64",
            "ccbf58620f6042fa9d60f024a776e8bb",
            "4aa48a48d9a24937b94c8493531cd08c",
            "a0951e80a5c34089a215ba16f4bbef61",
            "1b2d2fc2884d4dc1a27c962dc4ee51b5",
            "0cae22f61392484d9f0e9398307b0d7a",
            "cd3e45ed9996464989ed93bdb8164ff6",
            "f901dfb7e35847b0adebda14c4e72781",
            "87b9768134ad402aac88c7f9fcc6b38f",
            "97b63bd82a2244ea9a2423b857ce9e96",
            "371f3b2ed26643bbb7e1447298a592b6",
            "3056e94cccf94ce38482b3200265cda1",
            "a43ecea66454446a8cda6989635788d7",
            "eedcefe6a3474dc683c706a483981202",
            "1e46b45e42f34d22863f19cfdcdb3774",
            "02145bb0511a49328e35357e3e453919",
            "8e98296e1d5d4e31831b3260f0d7edab",
            "ff12c5f2659c454a845f0809bde13296",
            "ae2e070043cc40cfbc545b60bded0a5f",
            "6a108b67ad1e496a8f9cfb47c8e430e0",
            "01357508bd054d5ca3ce3a0e3601b79e",
            "71b6dd0f84eb41f99dbf12cd0e39c941",
            "ce79942bfb92412b8a1fb98dade9c62f",
            "f0294ce58d914c82ba84fc80731bd269",
            "4f6f91fbed984f38ac1d6f3afbcb5984",
            "af57900e8f6542b48d72b41a9ac8ad52",
            "7fa5a7545d1c415ca34f1d3329253bd3",
            "78724811cee34c3f98a8a450bd26eed1",
            "5c3f5448e63a4a9dad587261b5e4db40",
            "c425e2ca42494cdfb5083f908cb655f2",
            "25cf48bce49448b9af5645b59644a922",
            "22aa107955d7491285a6e63d7d12f7e2",
            "0215ba1e97254e7089556f3f79a7947f",
            "43bd22a78d3740daaed1b56248efc6c2",
            "2ea07c8073704e35a43cebe9c69a3263",
            "ade1c7aeb8c64d47b5205f9bd0fde4a3",
            "b839ec4b76d744fd865c1773a704f468",
            "74d5e4cc076344e7aa0ea76cd193ed96",
            "81e4b54d53a143d9b97b8a053cb2c66e",
            "297ed332ef7e41c688e3ef38a85c3742",
            "6230ddaa769141fabbcdc65126b44f62",
            "5d7e5559312c446abe1035d7c4199996",
            "8613c81248d548f59d7a4cf201bf38e0",
            "eaa04a05091445388f19a0314b09f85b",
            "c099ed70ddd9454aaefc75cbc30e977a",
            "dbac1883f3744719bfa906802238af0f",
            "af3fcf5280fc473c8f907e12b4599a38",
            "05806a3f7daa4e64a8974d9ae92184ab",
            "613634686be8441d93ce810caa9d9815",
            "994472a4814445548712c52bb605cd26",
            "8e4c9e9876254e8dab37e1cc027cccd0",
            "8f6d7e0adc064c4daca0cb6b64b77d7d"
          ]
        },
        "id": "KstkANErNgX6",
        "outputId": "e4134a50-8934-4587-e541-e260187dc2d8"
      },
      "outputs": [
        {
          "data": {
            "application/vnd.jupyter.widget-view+json": {
              "model_id": "83a5925acde148fe9c12c831babf86c0",
              "version_major": 2,
              "version_minor": 0
            },
            "text/plain": [
              "  0%|          | 0/22 [00:00<?, ?it/s]"
            ]
          },
          "metadata": {},
          "output_type": "display_data"
        },
        {
          "name": "stderr",
          "output_type": "stream",
          "text": [
            "/usr/local/lib/python3.12/dist-packages/diffusers/pipelines/t2i_adapter/pipeline_stable_diffusion_adapter.py:500: FutureWarning: The decode_latents method is deprecated and will be removed in 1.0.0. Please use VaeImageProcessor.postprocess(...) instead\n",
            "  deprecate(\"decode_latents\", \"1.0.0\", deprecation_message, standard_warn=False)\n"
          ]
        },
        {
          "data": {
            "application/vnd.jupyter.widget-view+json": {
              "model_id": "6135088f4cc8424291c7347be4c9d4fe",
              "version_major": 2,
              "version_minor": 0
            },
            "text/plain": [
              "  0%|          | 0/22 [00:00<?, ?it/s]"
            ]
          },
          "metadata": {},
          "output_type": "display_data"
        },
        {
          "data": {
            "application/vnd.jupyter.widget-view+json": {
              "model_id": "87b9768134ad402aac88c7f9fcc6b38f",
              "version_major": 2,
              "version_minor": 0
            },
            "text/plain": [
              "  0%|          | 0/22 [00:00<?, ?it/s]"
            ]
          },
          "metadata": {},
          "output_type": "display_data"
        },
        {
          "data": {
            "application/vnd.jupyter.widget-view+json": {
              "model_id": "6a108b67ad1e496a8f9cfb47c8e430e0",
              "version_major": 2,
              "version_minor": 0
            },
            "text/plain": [
              "  0%|          | 0/22 [00:00<?, ?it/s]"
            ]
          },
          "metadata": {},
          "output_type": "display_data"
        },
        {
          "data": {
            "application/vnd.jupyter.widget-view+json": {
              "model_id": "25cf48bce49448b9af5645b59644a922",
              "version_major": 2,
              "version_minor": 0
            },
            "text/plain": [
              "  0%|          | 0/22 [00:00<?, ?it/s]"
            ]
          },
          "metadata": {},
          "output_type": "display_data"
        },
        {
          "data": {
            "application/vnd.jupyter.widget-view+json": {
              "model_id": "5d7e5559312c446abe1035d7c4199996",
              "version_major": 2,
              "version_minor": 0
            },
            "text/plain": [
              "  0%|          | 0/22 [00:00<?, ?it/s]"
            ]
          },
          "metadata": {},
          "output_type": "display_data"
        },
        {
          "data": {
            "text/plain": [
              "[PosixPath('/content/outputs/20250908-160041/model2_color/m2_color_s101_512_c1.0.png'),\n",
              " PosixPath('/content/outputs/20250908-160041/model2_color/m2_color_s202_512_c1.0.png'),\n",
              " PosixPath('/content/outputs/20250908-160041/model2_color/m2_color_s303_512_c1.0.png'),\n",
              " PosixPath('/content/outputs/20250908-160041/model2_color/m2_color_s404_512_c1.0.png'),\n",
              " PosixPath('/content/outputs/20250908-160041/model2_color/m2_color_s505_512_c1.0.png'),\n",
              " PosixPath('/content/outputs/20250908-160041/model2_color/m2_color_s606_512_c1.0.png')]"
            ]
          },
          "execution_count": 20,
          "metadata": {},
          "output_type": "execute_result"
        }
      ],
      "source": [
        "import os\n",
        "seeds = [101, 202, 303, 404, 505, 606]\n",
        "m2_dir = BASE_DIR / \"model2_color\"; m2_dir.mkdir(parents=True, exist_ok=True)\n",
        "\n",
        "def run_adapter(seed, size=512, steps=22, guidance=6.5, cond=1.0):\n",
        "    g = torch.Generator(device=pipe2.device).manual_seed(seed)\n",
        "    img = pipe2(\n",
        "        prompt=POS2,\n",
        "        negative_prompt=NEG2,\n",
        "        image=palette_img,                     # <-- color conditioning\n",
        "        height=size, width=size,               # SD1.x native 512; upscale later if needed\n",
        "        num_inference_steps=steps,\n",
        "        guidance_scale=guidance,\n",
        "        adapter_conditioning_scale=cond,       # try 0.6–1.4; higher = stronger palette lock\n",
        "        generator=g\n",
        "    ).images[0]\n",
        "    outp = m2_dir / f\"m2_color_s{seed}_{size}_c{cond}.png\"\n",
        "    img.save(outp); return outp\n",
        "\n",
        "outs2 = [run_adapter(s, size=512, steps=22, guidance=6.5, cond=1.0) for s in seeds]\n",
        "outs2\n"
      ]
    },
    {
      "cell_type": "code",
      "execution_count": null,
      "metadata": {
        "id": "y0VBp8kWOYzM"
      },
      "outputs": [],
      "source": [
        "##REFINED MODEL 2\n",
        "#stronger prompts # Strong structure: cedar + coffee fusion, emblem-only, flat\n",
        "POS2_IMPROVED = (\n",
        "    \"Minimalist emblem-only logo symbol, fusion of a cedar tree silhouette and a coffee bean, \"\n",
        "    \"flat 2D vector icon, bold circular badge, strong symmetry, simple geometric forms, \"\n",
        "    \"thick clean outline, solid flat fills, modern professional branding\"\n",
        ")\n",
        "\n",
        "# Hard bans: no text, no monograms, no rounded-square app icons, no background textures\n",
        "NEG2_IMPROVED = (\n",
        "    \"text, typography, letters, words, writing, watermark, monogram, initials, \"\n",
        "    \"ornate, filigree, thin lines, tiny details, abstract random symbol, \"\n",
        "    \"app icon, rounded square background, badge with outer text ring, \"\n",
        "    \"background texture, wood grain, fabric, gradient, shading, lighting, shadow, bevel, emboss, glow, noise, dots, stippling\"\n",
        ")\n"
      ]
    },
    {
      "cell_type": "code",
      "execution_count": null,
      "metadata": {
        "colab": {
          "base_uri": "https://localhost:8080/",
          "height": 1000,
          "referenced_widgets": [
            "48bd081744c0415f892e2fce451f73ba",
            "7d1e4af67712459d8ed92caeb1a077c3",
            "7d8a3f630d4746eb9ce91f65cc3a0cca",
            "f8dbb5c5247b422499977295be051a2b",
            "61db73efc40b4067ae7a912ea16598e3",
            "617df167cc7a4933a1ca109930e1525b",
            "1e10a7b16690477d987514e7d06c0b8d",
            "05b4ef09e9c74575b74259921edce90f",
            "c3190791cfa74220b5cb84ed7f6b82c9",
            "4dec3f1e8f5247a1948deec3a16633f7",
            "ba0c479cfbc743278dfd3e9fccafbabb",
            "38d544fd94dc4f95a9b538cf9ede4269",
            "cb16d995a4d54400a0f1415a07bed76a",
            "49a5f213e2d8490182bf899dbbd2aba5",
            "49f8d92e0baa4a709e3f919fa274b2b9",
            "8cde91c18c324a12a85ff3606978893b",
            "fdb0765fd08647debffeb66cca8f5806",
            "4cf0fb16cf0740e1ba3911c7fa8885e9",
            "cdc9f88a7193493fbceadac2accd1be5",
            "1fc68c9ed99a4b6c8ea059ea851be569",
            "53c37847bc3141e58eafd9a9adda1671",
            "d0215a07d5804d15b37da0bfa83966c8",
            "4b626d092e494d24aa66acb2658f611f",
            "7ba523553b0a4ac0a870202c14119a75",
            "2a609525723c44c283b8c7872780c2c9",
            "1638a5eab4754419afb9699d84027422",
            "6906ffd7fa49492fa9140405e4ad2529",
            "78777424a1214a5e8481974e7a174ba2",
            "ebd2820e538d46a4a94df5d01e54c1a2",
            "9b72d612ae4a491ab0d95aa554107b36",
            "35f8eeb51f3e470eae18fcac733822af",
            "aec0ca0a7cb249fcbd7089012c3f6a64",
            "e4c4bd2018df48d6ad203fdce71743f5",
            "813fdda8a61d4bf08065f88a250db1c3",
            "44e8cf4b353a49c4af2fe8e729f14331",
            "77aba44f6ad34945a9a10582d75d05ff",
            "9dc7c946bb7f41b7af487066154ade14",
            "4ca94609568341d9bab879c3d9380588",
            "172efb2f892a4423b3f2bec25e56a35c",
            "8738139e1b97428e851a9f16bf7766fa",
            "87a0ee51138e4bde94b4ec6d5be7faf0",
            "eabd59d06fb54019be807ae6e517da49",
            "ff439d7d04724783bb30aba85c8b3664",
            "7623b189d4e74e29a147f87ea06332c3",
            "ae7957bd2ca74eaf8e0ab8304bfc65a4",
            "ac81af04444149bb9d460146dcd23605",
            "37727460caec4ee4b838dff3ad2da883",
            "e8139b9f9368494480e759b3be0eb991",
            "9122a86d9aff4329bc52d138fb0bba16",
            "0b37154b8a9644ffababa79ca40425ac",
            "4238222b67cd40a6b0e457b80c88b20d",
            "8c946143b5ed46ba80b758da0e0ad7a2",
            "b7cd53b147814b2fa922835a3cf52fd3",
            "b3b53a7249b6419db137a812ec8ee26a",
            "8d902ee7de394a9ebf1b9877b035160d",
            "d7519714245e4375af80d1df092da3b3",
            "8ed5eb1fe7e3418d8b8e8774441f5b85",
            "9c5b32db763f41eba3627e1442b709a9",
            "0a65dda8589740679780f124af35cb19",
            "859b72607dfd4992af785b2e41c6aeba",
            "12fb755264504983b37a17a227f5bade",
            "eb86d02683b247459454e283c2d75d23",
            "e1d2d6c26d0b4e6c83aa71d5734d6b6e",
            "29175550f6ff45fa813502cdfdd0f5bb",
            "36d5d808c71e4c798c38a1f1293bb40a",
            "a00222324bbc42bba41055ec984b2612",
            "04eaee29d0a345818a8265c12fb2f2e5",
            "7c624556f1854c5c801d8115136d8589",
            "ee52aa5b4a1a43c4a7baeea0bd2c2c75",
            "30cb591ef6104fd5819cab9a8166d8fd",
            "e06026e2f7764df4b71a274fa89f89e2",
            "f7a027fd85d84fb6ad332453c731171d",
            "824f1e4344cd415891c6cb99a12996a0",
            "9ac0578c6635431f90de78ab68c6a3f1",
            "727f75cb1fa6460eb255ddcaaba75f9e",
            "ee5686dece594538bcef35f7ee56ca5f",
            "639d2b3821194aa6baadf457c3da5e1a",
            "99c2a1d88c8a4059920807489aa41576",
            "2c78881b95aa4d7bb585e5ebdf2393a6",
            "e40d6169c72747c5a7119447fc764ae1",
            "3e4793c4920b4fa6bb2ca8a84eb65f82",
            "fc967699f6464ae7ab83ee6ee9472425",
            "f33d3c50d71c4601a66b630658c0a702",
            "d65e68c60a834e5095ee2af74c89cf03",
            "646083ef51ed4976ae030e08017dd778",
            "30cab2003ae44dca863cbdea8033e587",
            "520a8dfe55b74916ab27788c1e7981ef",
            "c9fae16f7bab4c72b694813d1edc1a28",
            "438dcdc6d45a4f898331acde7b5a2848",
            "3e253ac5af034569bca5849c5dbdbf69",
            "031cde9bd009443f82afc8321daa186d",
            "88c66f2ddcbf4b1d937910e6fb8aaa1a",
            "67c46e8e518f4f77adc1f55da7d835bf",
            "14d5dd3236124faf9e562efc83cbbc17",
            "7d36159b2e68407bad3459834a923cb6",
            "a66b8b318edb4282a9b30e5404e12f69",
            "b30eb04e1f1349c1bebc3a288efa29e7",
            "5f319b435b654fb2b2b9e3ccc6baae46",
            "8bf0031cc22342649bf1b1cb65ac58b1",
            "7d1f2e566e484d1a9a5623fd8cad2783",
            "ac1d45f6d3e6409b8604d5ffd5a640da",
            "0635c9a4f50c48878bf03e12ebb7ee7e",
            "cae484be81a34b4183f535b083d3fba2",
            "a0a5aa28794c45d590418e8994993637",
            "eb7247c8b2ad41a68274fcdc2e2fe59d",
            "f32448d833124a628a2b89f2767cd9a1",
            "e016f79972384bc0a63f74e16eb7fcf3",
            "17c7958b9ad34b01910a6ab072438f2f",
            "c6004d767a0e4e4fbdce1f9f674cdb21",
            "3bde7b184f534ed880b329b55d4c5928",
            "a0fa9235e75a454ea46c36d0c56af5d3",
            "3dda1bdbe2a2452e8d0eebb2200f20b6",
            "cb9b108c962b4916bba9d9ca44c6a932",
            "a896a9c6ccea4dcf83dbabf1c0c5efcb",
            "7dfd91743f394886b8b9540c1738d837",
            "0d986c3eb10e43768c9c9ac58d932dd7",
            "c0850a31586a480089f950a9cfe81041",
            "a0eeffdf81cb4048a7e632c59d74011c",
            "c2fe5582868a49e5860c85d0127ee617",
            "bb862a3792554befa8be8e77d41b7c8e",
            "53e70f103b6c44d49245a714c5d19647",
            "158cb890026c4b129379313a302c4e61",
            "c8e95711da614e4cad4adeb9d5462bf9",
            "852e377e38a24f859f81927b8f0ba198",
            "0675f4a40dbf43659c508083cb276b9b",
            "f86bb4472f744627811458564cc0819f",
            "2a16d1f1fd5e4523aea31ec92bf90346",
            "1c291f93936a49979e79c4dc8ec4ba91",
            "d59a3c706af54ffd8168907d6c0c9c60",
            "9ec99f443418428eb6afdcf2da4b3c2f",
            "f9636ebe38c14091b39448999b730e59",
            "4e8dc365356547b79b0d9d8adcd77cda",
            "eec0960a604946688e865b0ff09270ca",
            "f54f3f6c9d0a42dea8e75c6c7592f541",
            "2c7fe91430624d01b30a87f0858d756a",
            "d615dce1c6cb444783bff221c0b3b1f9",
            "4ba7c44125844c54aa567e8fdb316c47",
            "98eaedf3b4234053b7dc821fe226149e",
            "4c983a5da39c48f1a9f8bb2f9e23e3eb",
            "a658075aeaa2405e907cfbffc8158b55",
            "33e6361611464913a7606e2f0948dd00",
            "f181614fe6b94e88abaac806015d6eb8",
            "915d0590732e4ac38ff735f94c2ffd0c",
            "c85b1e77921b46d687504abcff6eefdf",
            "1b9aa55b1e34468695abc32ca0706079",
            "36252d56ba3f47fdb68f8fe7b5cbc4da",
            "faeb6fc00a85451bbccbe0d0cab3c519",
            "3e5db017c6fb48f4a089345576c7d9b7",
            "64989674796f4678aa37907941585ed1",
            "d27f1ee201f847b19c869900ba9d8901",
            "b2236c7a7dad46088ce2bdd04fc0d0a0",
            "8ed24f63cfbe455c854f3c4f39f5142d",
            "95f0c99c7c4d4367b53d97927b95b509",
            "b966d22bed5b4ba6a2462d4827e81e5a",
            "242ade4eee564f589401673a628ba2d8",
            "44a869a0020742fc94af885d0336ad2c",
            "8b3517fa329948a4b3367296338b7caa",
            "0cffcf079b9f433aad5a35adcfd60ae4",
            "772ed9d1401e46d48e0f2352e8762fa8",
            "c36bee88c5fb4dbd89daee8503b48427",
            "18f4db20c869442aa3ff5bf1638d7fdc",
            "0631b314c4b64813a3f2073340835754",
            "10a3ac2d09be437eabd4671a97edf7d0",
            "5cd89883d9a74b1380d51b31e0a8825e",
            "ba1190431a5d43589dd8bc5398ea496f",
            "dbd2ddb8444443d297eba425f55a8d9d",
            "b2f5dde9a32c4325bf813535dcf57aaa",
            "0825636935094ee584ef8db4f6e5f6f0",
            "c02852f5c6714566ac946b496e6dcc5f",
            "b621245e62f14598a525f216bdab14ca",
            "700bc9500976489aae060d50ec4abc2b",
            "fc17330969ac482aa36e26ca4a54a797",
            "0f3a8bce15524740b00e8a4811a46044",
            "c0aeae9d9eea4fd3b2abc61833e221bd",
            "c6f6defcd3cd48bfb3a91001372a03de",
            "a0ee023233f2466e8d3177b190236cf6",
            "52d9e06bcde94013910d558bcaba3aa3",
            "8b105f63c0934d9c8228f08cd7d23ff9",
            "eb61b021fd2f48d18cd4b8a99e5b0abd",
            "b24af001cfb2491aa444e773f60416a9",
            "0b5b0132cd544f6f806d1c7eae6cdb97",
            "d6e7937e85a34b799d22d6d98bba9323",
            "be56637a35e54a18abe8dc9f1f4587f9",
            "0b20019f7adb4c61affc0096246b33c0",
            "ab0970f8b22b4e2288529b84509f18af",
            "3d7e4abb77a2474397d953e6ba3449f0",
            "4329c28e988347de9a010745c4b3b4db",
            "e8226c0ce17945b7b64d0a8e5c04d7f6",
            "5aa75f20aa334564bd77c2bb18b8eb01",
            "6c3a1014b24a4b5bb2049eae4fb13246",
            "bb474d08478e4d9e8e0ede5644474cf8",
            "f8a3c499b19b4cc4871488ef4d3def55",
            "97577495ec40456dbc40de1c07e20af5",
            "2acc2aa7e46b413fa675d7f8c51b5f42",
            "a056f105f5de4faaa4ee5e3e8a28111f",
            "02894bc303474557828cddaca5f3389c",
            "971bae90c64343caa83b08fd2ed756cb",
            "06da8a750a534d9381ebc062654963ce",
            "cb27b700549b459aa818eb74a83a3f7d",
            "dd8b66d116f141c28b5b470985861ea3",
            "800b3253f47e45509fc22c422733c8de",
            "983372a0844b474d91dbaebbb425e580",
            "909e537c277447c2b680ca13de1d1138",
            "97ebc09c85404ec48372770c313f9b12",
            "3febdf2d980749adb1dc9fdc923da16f",
            "2dea20f08c6446d8af5640fe7eb1d23b",
            "5ccc90a237ef4c979c3559de53adc58c",
            "686c3dcfcb0041b989a0ee5c7e59d7cf",
            "660513499c8e4962af1262102295662d",
            "2e289e0f94e142a0b857580cf90de8d5",
            "3e60ac2094154773b171e4cdd023ed24",
            "091a04cfaf944646b24581e59929553f",
            "29a6826417c7497389f542e5cf830b32",
            "dd2c3296e7014401873ff2f204b3a9cf",
            "c657edeb0cb041c4be069e811d3f9b0a",
            "62cb6113cfce42529be8c6de31731ea0",
            "bd967f851c25457a8f691e8c392db507",
            "58fec8939bec4cb1aba71e64fb044e3f",
            "bc348ee0c4c44e5f9ad6479a945d74b7",
            "00dbc2b00bbd4c79a819411207c7c1e2",
            "9147df4b05e348699e083f179ab72ffd",
            "515af6792f9545769868b399edbbfc5e",
            "d10e1b8f1ff441c2959743753d191dd1",
            "e9984166e8b24662be77f9b0bd3c6778",
            "893d3b18b7be4e3b89eec64b449e8899",
            "1ec102de357f425e86bd9095a2426d7c",
            "79d5d1546fc0468b871f9bc5be85def6",
            "9e4d22c6b3414e4fa43906d0707765ba",
            "a2a096d0c005464f92004a13360c18bd",
            "1e8e1b29169d44ceb79eb07aa89f242c",
            "9636a57b3b4f4e22ae4b2488fecfdf63",
            "8d8743a68e5f40eeab25ee82dfd6dd33",
            "2068dcd6f1d34e738159597c64d558a3",
            "6871ca6ff939455b818fb70739fda449",
            "968cb133043b428eb916f01c402d430a",
            "5d2aadf4c74c4e9e9394bb2a6b63dd3d",
            "7b7d83dd76ce4869a690b93d6042d906",
            "c2000318dc744a6ebeda921c5d434753",
            "75824e8c65f94dcb9c4d18d4a37bd237",
            "76d39eafe94549a88cca4d24a5943aa6",
            "16ebe4d4104447e19e127113c42f9545",
            "a3ff1d1cee0a4881bef47672d6bdc580",
            "008a0b5f07cd4babafb7dedfcd5864da",
            "357c577bde87478db6a40fcf2e44891f",
            "8e0abc79d1a44870be392e02534b342c",
            "3799cbc0e04548b0aad903968f86bc4e",
            "147094420ca34d25a5029304acc2278a",
            "53c7deb894bc4aeea746a39d16ea7fb2",
            "947e9f3267fa471887b16674ff854a94",
            "7c0ec3dc1a3f46f6bee454b99e4c4b6f",
            "20703f7af6ff459d94771ee4e5f7fbcc",
            "f3fe89c294c740b4acfa03c3ffdc4ecd",
            "92e39328a55c48f2a862fae40dc690f3",
            "2c8ce6afa0af4cc69b1b65bd97a19af7",
            "42cd0821987d4d619dc6b48b1122e048",
            "147f50f1254a40f98b4faa8434e5b668",
            "0283d569d6f64e4f856d6f4478ee79f0",
            "512bd49f4a97451aaf0b63c65a3158ba",
            "21edd1247a464523a0ddee6f95a4865c",
            "3f4f69ddcae444f7b3421b839977ceb9",
            "8ced838a2a4a46de87694887af09295a",
            "dc356880daef48beb3c704f6e73a7f00",
            "4aef135700e54adc804ccc561f47ec49",
            "d0c5effd282c4aaaa387f852b8c618a4",
            "9cd1d119343d4a849c237de04f9bf330",
            "5045e828b11c455aa759e717657f8de5",
            "e4158f15438b4ebe9ba03fea96591cfd",
            "680f973766d543c4ab2acd9c8d54ba04",
            "e90845bce6914426ae7b110f831635b5",
            "d921878ac196409bbafbe59982cd95e3",
            "81582ec0f0184d1fb19c525ac2589593",
            "11a4a5650af1428ca9d6d2563c6ec5b8",
            "2bd49a2e2cb74630a28f8a9180401f25",
            "23c25a9fac1343d3868dca52bd3f759a",
            "71dd68f280d74c60a6bed554b2959ce0",
            "3cca154dccdb46ff96421b82aee709c2",
            "743c23cba244492d9b83f1e58148989b",
            "349e3ff286b84a05aac796ff91851590",
            "107d9f6a05334cf3851acd67272c9fa2",
            "b130bacf37974ccfbbc8587ad17dea13",
            "4de191bca0ad4f9bb6ccbcb438df31ee",
            "0eaaf0961de7408ba8dc7c71d1ca75bf",
            "d4fe39dcc63f417a8593f63a425b3134",
            "15263da25b064de487e2a44141b6d034",
            "f2f55a18a12648a1aa233d0538bbb884",
            "3cbf474445254ac2b76b4cd22d819fa5",
            "48466ee834ae42f3af60cc74ddfbd493",
            "17d07949ad6c45caa34c3aed9523adda",
            "113f8aa54b9d4bffaeb8b3487b4892d0",
            "33e1f006db144dd8846afe57ff0353cf",
            "8464cdb8c3d94af39f75ad964b44f358",
            "d7b697f2892746b58aed280df572599f",
            "b0a438f38b2745a582895953c0d38f1c",
            "3643bc817db0435ebe38509641514a4e",
            "dd7d5a11c36846b9a175efca15d4edf8",
            "8d74b57ad4dc42759451413ed7ca7eb5",
            "be1e609260f94b57a35b835e1064dffc",
            "d29dc995d7204cc389c6786c8db8bc63",
            "d8cc30fa3855438eb2d5608050b70acf",
            "68916fac8766479aa0bff71c7cf18970",
            "39a480eda14940f882d3ae1de521813d",
            "85f17cdbaf414c20900ea4c13b0d0518",
            "7aceb9084d984e738f94fd71fb53bb21",
            "b7b07f7d39f0485bac3288e5bc7e01f8",
            "a7c0d443d69a4dd48027fb111e2a1db8",
            "0b1e700ee9234239974b20aeebb4bb14",
            "5c9e7009bc164916a3b4993a758daccb",
            "0a9aa1250f65429d8b27986fb4e52f04",
            "4fb68f8ba1c9414d96f58d7c340c79d9",
            "0dc80289297d4ecfb98623445635393c",
            "994db9b0be7b47f68151839f116ede1b",
            "ed5332d968b840d9bb48a2ed7801a32f",
            "deeca06d23c24117945d5478598d5391",
            "7ceda409f6d24e81b9d328eb6e1bd2bc",
            "bd341eafda404638b46de031e298b48e",
            "6a76adc529aa4ae3bbda1b445f9a5d7f",
            "7aeb17342f7c4a9aab718dfc68c96319",
            "7fb8c98e98204485a7d7d7449e266b4f",
            "df4f76591a61487ebdeb150640a9e5e3",
            "19f95f85073e427a81d3df129da16b6c",
            "1879db5f7b9e42aaae5082cd5eb5b2e3",
            "4fbc0135b23746d28f0884ea98a113f5",
            "9c883f755a104ba9a076ca053dca68f9",
            "fe3206476cc1445fbad5959d725d2153",
            "98c5672d09c14670b0c726a1ba5edbce",
            "4a55dfd9bf73432196c5833bf5512841",
            "529045392bf143b3a2df19b1bd3047d0",
            "0daad8a48294492296f71a386f6b976b",
            "0c9c69ef0e4b443bbbc1d1b917a62652",
            "b690d2460da849f59c2835c6326a1c9b",
            "81c686409b664b52bd562e12250d6c9a",
            "c0de41c15f824d43bce8742577e78024",
            "2fffdd4de6a1437eaead3c13f98194c2",
            "c63fcc9fcffb443780f231270a2d8224",
            "7eb501b927024de9a1d5fe7078a737bd",
            "5075cb49850d48739d8936dd5405b2a3",
            "167cecd74ae24bf2a64186bf841b0acd",
            "63f665e41d31453f8f7eb8e5f7c13f73",
            "9072975c56734bf89a6ada36c46f75ed",
            "502c6b295dee44d28740affc6998c518",
            "3b0c32e408ca4323874ef34401768c77",
            "6d8a10c5ffe14660ae7771dbaabc5877",
            "b9e912d1b7f24eb58276506f3633f4f0",
            "1a9382cca38543e299dfabcea1216353",
            "bf998cd2061b44c0a1242f5592ac64c6",
            "c8ae9fced28a4acbbca91d66e85f25c3",
            "a780729629944889ac7ecafdb20913f7",
            "432f9cae221249fcb2a5f9264b1711fc",
            "6d216adea89b40e9ae112352f4a28b2f",
            "4929533eeaaa473ba216e83443160fe8",
            "38589f80f9644ec2b5849fd7d3fc54af",
            "fc5cd66a26e148998b0af9bdf27a810f",
            "b5f99a1f47c744c199267cc1f64b097f",
            "0846447a2c654c17aff5ed281232950d",
            "c03dbdb0ccdc405e8bd8d37106f73d88",
            "54e5d21901b04aae9205ad987d444fcd",
            "f676f2efeea04274aadc0529bfe97437",
            "b6d093aa8a2444a3bd9bfd2bd7f1fe9a",
            "a883ba7a7de940c39b3324b4dbea87bc",
            "6a72b2da1ef845daa445190d9e652008",
            "a6d886422b724aad8e8a81cf79fbd6f7",
            "986cbb40e43a4c0b8d80feb7d8badb09",
            "2e63e169d41345809e5e5820110b9dfb",
            "8304ef2cb3a1460186d89c0e8a385aa3",
            "ed2c188665cc474ba304a4c3853aa014",
            "9167f79a9bee46c38220f70307f41e45",
            "645d30596df4461d85a57d1ef5dbdd0d",
            "540a8bbf9fbb47a48ed4eb1541fefaff",
            "434b16662f0a47d49dd83707b7bdc523",
            "84d157d88f5b4146b7a1d10feb209e54",
            "00b6b60e425e447a9f062d7bdd7a9404",
            "eedea3a0d3204ff0bedbb84571cdbdea",
            "fde1ebc80661438d8d347a4074427903",
            "66e6c95d0e4a417e9b20d2dcaeffa600",
            "efda16e6a92e4b6fb3a07d5ccf14fe68",
            "7275bf5e26f644cb91b4f1989c025754",
            "5edc0573efa0466d89dbff7bdd5fd427",
            "4748c107b1e64a3db353590a988a5d70",
            "6a1ce4312da9436592509ebbfb4f238f",
            "75f16c39e5374b9986223f64ae3f1329",
            "fbfc306c24b14d0383dba4e74439b85a",
            "314a10e2be3a4b1b8361e30dc5d6c0f7",
            "093a38f2466d453e9e095bb4c27fec5f",
            "f2c6c8d4d57841dc9467ff4e5a4fc82c",
            "01b2c36032c74900821179138db67325",
            "3b5f336a581a42f19ff5a300c3814ba2",
            "6608d2e831014e24a9b7d5bc329cb989",
            "b62730ad1af848c5ab2a3b1f4d8e1926",
            "07ea3e03bddd48a895280858ef8378e9",
            "f2c1dce604bd412eae623d2cfe8aa9a1",
            "292de2041e75438380ab346cb857501b",
            "bd056e321bfe4cfdbcc0d7b440970cc8",
            "56fed226578e44c6b11c0c4e67ba095d",
            "28425e0cd0a44594b2d30c939ee0641b",
            "8029c648187742968b20305c321a909b",
            "5b61234aa7934e64be4d41fd40344407"
          ]
        },
        "id": "99cDZJkKPJwN",
        "outputId": "334e9af7-fb65-48d6-eda6-904a979f1001"
      },
      "outputs": [
        {
          "data": {
            "application/vnd.jupyter.widget-view+json": {
              "model_id": "48bd081744c0415f892e2fce451f73ba",
              "version_major": 2,
              "version_minor": 0
            },
            "text/plain": [
              "  0%|          | 0/24 [00:00<?, ?it/s]"
            ]
          },
          "metadata": {},
          "output_type": "display_data"
        },
        {
          "data": {
            "application/vnd.jupyter.widget-view+json": {
              "model_id": "38d544fd94dc4f95a9b538cf9ede4269",
              "version_major": 2,
              "version_minor": 0
            },
            "text/plain": [
              "  0%|          | 0/24 [00:00<?, ?it/s]"
            ]
          },
          "metadata": {},
          "output_type": "display_data"
        },
        {
          "data": {
            "application/vnd.jupyter.widget-view+json": {
              "model_id": "4b626d092e494d24aa66acb2658f611f",
              "version_major": 2,
              "version_minor": 0
            },
            "text/plain": [
              "  0%|          | 0/24 [00:00<?, ?it/s]"
            ]
          },
          "metadata": {},
          "output_type": "display_data"
        },
        {
          "data": {
            "application/vnd.jupyter.widget-view+json": {
              "model_id": "813fdda8a61d4bf08065f88a250db1c3",
              "version_major": 2,
              "version_minor": 0
            },
            "text/plain": [
              "  0%|          | 0/24 [00:00<?, ?it/s]"
            ]
          },
          "metadata": {},
          "output_type": "display_data"
        },
        {
          "data": {
            "application/vnd.jupyter.widget-view+json": {
              "model_id": "ae7957bd2ca74eaf8e0ab8304bfc65a4",
              "version_major": 2,
              "version_minor": 0
            },
            "text/plain": [
              "  0%|          | 0/24 [00:00<?, ?it/s]"
            ]
          },
          "metadata": {},
          "output_type": "display_data"
        },
        {
          "data": {
            "application/vnd.jupyter.widget-view+json": {
              "model_id": "d7519714245e4375af80d1df092da3b3",
              "version_major": 2,
              "version_minor": 0
            },
            "text/plain": [
              "  0%|          | 0/24 [00:00<?, ?it/s]"
            ]
          },
          "metadata": {},
          "output_type": "display_data"
        },
        {
          "data": {
            "application/vnd.jupyter.widget-view+json": {
              "model_id": "04eaee29d0a345818a8265c12fb2f2e5",
              "version_major": 2,
              "version_minor": 0
            },
            "text/plain": [
              "  0%|          | 0/24 [00:00<?, ?it/s]"
            ]
          },
          "metadata": {},
          "output_type": "display_data"
        },
        {
          "data": {
            "application/vnd.jupyter.widget-view+json": {
              "model_id": "99c2a1d88c8a4059920807489aa41576",
              "version_major": 2,
              "version_minor": 0
            },
            "text/plain": [
              "  0%|          | 0/24 [00:00<?, ?it/s]"
            ]
          },
          "metadata": {},
          "output_type": "display_data"
        },
        {
          "data": {
            "application/vnd.jupyter.widget-view+json": {
              "model_id": "438dcdc6d45a4f898331acde7b5a2848",
              "version_major": 2,
              "version_minor": 0
            },
            "text/plain": [
              "  0%|          | 0/24 [00:00<?, ?it/s]"
            ]
          },
          "metadata": {},
          "output_type": "display_data"
        },
        {
          "data": {
            "application/vnd.jupyter.widget-view+json": {
              "model_id": "7d1f2e566e484d1a9a5623fd8cad2783",
              "version_major": 2,
              "version_minor": 0
            },
            "text/plain": [
              "  0%|          | 0/24 [00:00<?, ?it/s]"
            ]
          },
          "metadata": {},
          "output_type": "display_data"
        },
        {
          "data": {
            "application/vnd.jupyter.widget-view+json": {
              "model_id": "a0fa9235e75a454ea46c36d0c56af5d3",
              "version_major": 2,
              "version_minor": 0
            },
            "text/plain": [
              "  0%|          | 0/24 [00:00<?, ?it/s]"
            ]
          },
          "metadata": {},
          "output_type": "display_data"
        },
        {
          "data": {
            "application/vnd.jupyter.widget-view+json": {
              "model_id": "158cb890026c4b129379313a302c4e61",
              "version_major": 2,
              "version_minor": 0
            },
            "text/plain": [
              "  0%|          | 0/24 [00:00<?, ?it/s]"
            ]
          },
          "metadata": {},
          "output_type": "display_data"
        },
        {
          "data": {
            "application/vnd.jupyter.widget-view+json": {
              "model_id": "eec0960a604946688e865b0ff09270ca",
              "version_major": 2,
              "version_minor": 0
            },
            "text/plain": [
              "  0%|          | 0/24 [00:00<?, ?it/s]"
            ]
          },
          "metadata": {},
          "output_type": "display_data"
        },
        {
          "data": {
            "application/vnd.jupyter.widget-view+json": {
              "model_id": "c85b1e77921b46d687504abcff6eefdf",
              "version_major": 2,
              "version_minor": 0
            },
            "text/plain": [
              "  0%|          | 0/24 [00:00<?, ?it/s]"
            ]
          },
          "metadata": {},
          "output_type": "display_data"
        },
        {
          "data": {
            "application/vnd.jupyter.widget-view+json": {
              "model_id": "242ade4eee564f589401673a628ba2d8",
              "version_major": 2,
              "version_minor": 0
            },
            "text/plain": [
              "  0%|          | 0/24 [00:00<?, ?it/s]"
            ]
          },
          "metadata": {},
          "output_type": "display_data"
        },
        {
          "data": {
            "application/vnd.jupyter.widget-view+json": {
              "model_id": "dbd2ddb8444443d297eba425f55a8d9d",
              "version_major": 2,
              "version_minor": 0
            },
            "text/plain": [
              "  0%|          | 0/24 [00:00<?, ?it/s]"
            ]
          },
          "metadata": {},
          "output_type": "display_data"
        },
        {
          "data": {
            "application/vnd.jupyter.widget-view+json": {
              "model_id": "52d9e06bcde94013910d558bcaba3aa3",
              "version_major": 2,
              "version_minor": 0
            },
            "text/plain": [
              "  0%|          | 0/24 [00:00<?, ?it/s]"
            ]
          },
          "metadata": {},
          "output_type": "display_data"
        },
        {
          "data": {
            "application/vnd.jupyter.widget-view+json": {
              "model_id": "e8226c0ce17945b7b64d0a8e5c04d7f6",
              "version_major": 2,
              "version_minor": 0
            },
            "text/plain": [
              "  0%|          | 0/24 [00:00<?, ?it/s]"
            ]
          },
          "metadata": {},
          "output_type": "display_data"
        },
        {
          "data": {
            "application/vnd.jupyter.widget-view+json": {
              "model_id": "cb27b700549b459aa818eb74a83a3f7d",
              "version_major": 2,
              "version_minor": 0
            },
            "text/plain": [
              "  0%|          | 0/24 [00:00<?, ?it/s]"
            ]
          },
          "metadata": {},
          "output_type": "display_data"
        },
        {
          "data": {
            "application/vnd.jupyter.widget-view+json": {
              "model_id": "2e289e0f94e142a0b857580cf90de8d5",
              "version_major": 2,
              "version_minor": 0
            },
            "text/plain": [
              "  0%|          | 0/24 [00:00<?, ?it/s]"
            ]
          },
          "metadata": {},
          "output_type": "display_data"
        },
        {
          "data": {
            "application/vnd.jupyter.widget-view+json": {
              "model_id": "9147df4b05e348699e083f179ab72ffd",
              "version_major": 2,
              "version_minor": 0
            },
            "text/plain": [
              "  0%|          | 0/24 [00:00<?, ?it/s]"
            ]
          },
          "metadata": {},
          "output_type": "display_data"
        },
        {
          "data": {
            "application/vnd.jupyter.widget-view+json": {
              "model_id": "8d8743a68e5f40eeab25ee82dfd6dd33",
              "version_major": 2,
              "version_minor": 0
            },
            "text/plain": [
              "  0%|          | 0/24 [00:00<?, ?it/s]"
            ]
          },
          "metadata": {},
          "output_type": "display_data"
        },
        {
          "data": {
            "application/vnd.jupyter.widget-view+json": {
              "model_id": "008a0b5f07cd4babafb7dedfcd5864da",
              "version_major": 2,
              "version_minor": 0
            },
            "text/plain": [
              "  0%|          | 0/24 [00:00<?, ?it/s]"
            ]
          },
          "metadata": {},
          "output_type": "display_data"
        },
        {
          "data": {
            "application/vnd.jupyter.widget-view+json": {
              "model_id": "2c8ce6afa0af4cc69b1b65bd97a19af7",
              "version_major": 2,
              "version_minor": 0
            },
            "text/plain": [
              "  0%|          | 0/24 [00:00<?, ?it/s]"
            ]
          },
          "metadata": {},
          "output_type": "display_data"
        },
        {
          "data": {
            "application/vnd.jupyter.widget-view+json": {
              "model_id": "9cd1d119343d4a849c237de04f9bf330",
              "version_major": 2,
              "version_minor": 0
            },
            "text/plain": [
              "  0%|          | 0/24 [00:00<?, ?it/s]"
            ]
          },
          "metadata": {},
          "output_type": "display_data"
        },
        {
          "data": {
            "application/vnd.jupyter.widget-view+json": {
              "model_id": "3cca154dccdb46ff96421b82aee709c2",
              "version_major": 2,
              "version_minor": 0
            },
            "text/plain": [
              "  0%|          | 0/24 [00:00<?, ?it/s]"
            ]
          },
          "metadata": {},
          "output_type": "display_data"
        },
        {
          "data": {
            "application/vnd.jupyter.widget-view+json": {
              "model_id": "48466ee834ae42f3af60cc74ddfbd493",
              "version_major": 2,
              "version_minor": 0
            },
            "text/plain": [
              "  0%|          | 0/24 [00:00<?, ?it/s]"
            ]
          },
          "metadata": {},
          "output_type": "display_data"
        },
        {
          "data": {
            "application/vnd.jupyter.widget-view+json": {
              "model_id": "d29dc995d7204cc389c6786c8db8bc63",
              "version_major": 2,
              "version_minor": 0
            },
            "text/plain": [
              "  0%|          | 0/24 [00:00<?, ?it/s]"
            ]
          },
          "metadata": {},
          "output_type": "display_data"
        },
        {
          "data": {
            "application/vnd.jupyter.widget-view+json": {
              "model_id": "4fb68f8ba1c9414d96f58d7c340c79d9",
              "version_major": 2,
              "version_minor": 0
            },
            "text/plain": [
              "  0%|          | 0/24 [00:00<?, ?it/s]"
            ]
          },
          "metadata": {},
          "output_type": "display_data"
        },
        {
          "data": {
            "application/vnd.jupyter.widget-view+json": {
              "model_id": "19f95f85073e427a81d3df129da16b6c",
              "version_major": 2,
              "version_minor": 0
            },
            "text/plain": [
              "  0%|          | 0/24 [00:00<?, ?it/s]"
            ]
          },
          "metadata": {},
          "output_type": "display_data"
        },
        {
          "data": {
            "application/vnd.jupyter.widget-view+json": {
              "model_id": "81c686409b664b52bd562e12250d6c9a",
              "version_major": 2,
              "version_minor": 0
            },
            "text/plain": [
              "  0%|          | 0/24 [00:00<?, ?it/s]"
            ]
          },
          "metadata": {},
          "output_type": "display_data"
        },
        {
          "data": {
            "application/vnd.jupyter.widget-view+json": {
              "model_id": "6d8a10c5ffe14660ae7771dbaabc5877",
              "version_major": 2,
              "version_minor": 0
            },
            "text/plain": [
              "  0%|          | 0/24 [00:00<?, ?it/s]"
            ]
          },
          "metadata": {},
          "output_type": "display_data"
        },
        {
          "data": {
            "application/vnd.jupyter.widget-view+json": {
              "model_id": "b5f99a1f47c744c199267cc1f64b097f",
              "version_major": 2,
              "version_minor": 0
            },
            "text/plain": [
              "  0%|          | 0/24 [00:00<?, ?it/s]"
            ]
          },
          "metadata": {},
          "output_type": "display_data"
        },
        {
          "data": {
            "application/vnd.jupyter.widget-view+json": {
              "model_id": "8304ef2cb3a1460186d89c0e8a385aa3",
              "version_major": 2,
              "version_minor": 0
            },
            "text/plain": [
              "  0%|          | 0/24 [00:00<?, ?it/s]"
            ]
          },
          "metadata": {},
          "output_type": "display_data"
        },
        {
          "data": {
            "application/vnd.jupyter.widget-view+json": {
              "model_id": "efda16e6a92e4b6fb3a07d5ccf14fe68",
              "version_major": 2,
              "version_minor": 0
            },
            "text/plain": [
              "  0%|          | 0/24 [00:00<?, ?it/s]"
            ]
          },
          "metadata": {},
          "output_type": "display_data"
        },
        {
          "data": {
            "application/vnd.jupyter.widget-view+json": {
              "model_id": "3b5f336a581a42f19ff5a300c3814ba2",
              "version_major": 2,
              "version_minor": 0
            },
            "text/plain": [
              "  0%|          | 0/24 [00:00<?, ?it/s]"
            ]
          },
          "metadata": {},
          "output_type": "display_data"
        },
        {
          "data": {
            "text/plain": [
              "(['/content/outputs/20250908-160041/model2_color_improved/m2_imp_s121_c0.8_g6.0_512.png',\n",
              "  '/content/outputs/20250908-160041/model2_color_improved/m2_imp_s121_c0.8_g7.0_512.png',\n",
              "  '/content/outputs/20250908-160041/model2_color_improved/m2_imp_s121_c1.0_g6.0_512.png',\n",
              "  '/content/outputs/20250908-160041/model2_color_improved/m2_imp_s121_c1.0_g7.0_512.png',\n",
              "  '/content/outputs/20250908-160041/model2_color_improved/m2_imp_s121_c1.2_g6.0_512.png',\n",
              "  '/content/outputs/20250908-160041/model2_color_improved/m2_imp_s121_c1.2_g7.0_512.png'],\n",
              " 36)"
            ]
          },
          "execution_count": 22,
          "metadata": {},
          "output_type": "execute_result"
        }
      ],
      "source": [
        "#Parameter sweeps (conditioning & guidance)\n",
        "# Small, focused sweep\n",
        "seeds_m2   = [121, 232, 343, 454, 565, 676]   # change if you want new shapes\n",
        "conds      = [0.8, 1.0, 1.2]                  # palette adherence strength\n",
        "guidances  = [6.0, 7.0]                       # prompt adherence; 6.0=looser, 7.0=tighter\n",
        "steps      = 24                               # sweet spot for SD1.x + adapter\n",
        "size       = 512                              # render best later at 768\n",
        "\n",
        "m2_imp_dir = BASE_DIR / \"model2_color_improved\"\n",
        "m2_imp_dir.mkdir(parents=True, exist_ok=True)\n",
        "\n",
        "def run_adapter_improved(seed, cond, guidance, size=size, steps=steps):\n",
        "    g = torch.Generator(device=pipe2.device).manual_seed(seed)\n",
        "    img = pipe2(\n",
        "        prompt=POS2_IMPROVED,\n",
        "        negative_prompt=NEG2_IMPROVED,\n",
        "        image=palette_img,                 # <-- palette conditioning image you built earlier\n",
        "        height=size, width=size,\n",
        "        num_inference_steps=steps,\n",
        "        guidance_scale=guidance,\n",
        "        adapter_conditioning_scale=cond,\n",
        "        generator=g\n",
        "    ).images[0]\n",
        "    outp = m2_imp_dir / f\"m2_imp_s{seed}_c{cond}_g{guidance}_{size}.png\"\n",
        "    img.save(outp);\n",
        "    return str(outp)\n",
        "\n",
        "# Run the sweep\n",
        "outs_m2 = []\n",
        "for s in seeds_m2:\n",
        "    for c in conds:\n",
        "        for g in guidances:\n",
        "            outs_m2.append(run_adapter_improved(s, c, g))\n",
        "outs_m2[:6], len(outs_m2)\n"
      ]
    },
    {
      "cell_type": "code",
      "execution_count": null,
      "metadata": {
        "colab": {
          "base_uri": "https://localhost:8080/",
          "height": 66,
          "referenced_widgets": [
            "428008283e644f01b07393c5c80bb318",
            "fc062c019b4443029c3c668e074ec046",
            "0a3fc9d1d8024de4b9b2bf5e9aa97e59",
            "3863bc32cc684d22b0ffc057dcfa85d0",
            "af0f6be1bb30491d85f6cd5fe61a9e92",
            "0a73f12b5d1c459f8c0a11a55f04327f",
            "36b64be546df42cc83ecaf2861b8f752",
            "310a437482d44c1a9770ab0b8c31ea62",
            "a320a2532d2f4daba36637bf2c4b0dfc",
            "06eee3481229453b97819b4d8d1431c1",
            "8d0b3dbd2e054d969ef8d1b6f51770b4"
          ]
        },
        "id": "Uql4WGsjPSYr",
        "outputId": "a842a04c-a720-4f77-d4e8-8707eeb94668"
      },
      "outputs": [
        {
          "data": {
            "application/vnd.jupyter.widget-view+json": {
              "model_id": "428008283e644f01b07393c5c80bb318",
              "version_major": 2,
              "version_minor": 0
            },
            "text/plain": [
              "  0%|          | 0/26 [00:00<?, ?it/s]"
            ]
          },
          "metadata": {},
          "output_type": "display_data"
        },
        {
          "name": "stdout",
          "output_type": "stream",
          "text": [
            "Upscaled best: /content/outputs/20250908-160041/model2_color_improved/m2_imp_s232_c1.2_g7.0_768.png\n"
          ]
        }
      ],
      "source": [
        "#Pick a favorite and upscale to 768\n",
        "# Example: choose the seed/cond/guidance combo you like from the sweep\n",
        "best_seed = 232\n",
        "best_cond = 1.2     # stronger palette lock if colors drift\n",
        "best_guid = 7.0     # tighter on structure\n",
        "best_768  = run_adapter_improved(best_seed, best_cond, best_guid, size=768, steps=26)\n",
        "print(\"Upscaled best:\", best_768)"
      ]
    }
  ],
  "metadata": {
    "accelerator": "GPU",
    "colab": {
      "gpuType": "T4",
      "provenance": [],
      "include_colab_link": true
    },
    "kernelspec": {
      "display_name": "Python 3",
      "name": "python3"
    },
    "language_info": {
      "name": "python"
    }
  },
  "nbformat": 4,
  "nbformat_minor": 0
}